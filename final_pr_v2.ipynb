{
 "cells": [
  {
   "cell_type": "markdown",
   "metadata": {},
   "source": [
    "# **Detection of IoT botnet attacks**\n",
    "\n",
    "Dataset: http://archive.ics.uci.edu/ml/datasets/detection_of_IoT_botnet_attacks_N_BaIoT\n",
    "\n",
    "**About the problem:**\n",
    "\n",
    "One of the biggest problems of IoT today is security. People say \"S\" in \"IoT\" stands for security. IoT is plagued by an epidemic of botnets, caused by very weak protection on most devices, such as smart security cameras, smart doorbells, smart thermometers, etc. These botnet are then used for various network attacks. It's very important to catch the infection as early as possible.\n",
    "\n",
    "This datasets aims at distinguishing between benign and malicious traffic data by means of anomaly detection techniques. Malicious data can be divided into 10 attacks carried by 2 botnets (BASHLITE and mirai). There are a total of 9 IoT devices used in this dataset. Rows in the dataset represent features found in time windows of a packet stream: a total of 23 features are extracted from a single window, there are total of five windows: 100ms, 500ms, 1.5sec, 10sec, and 1min into the past (λ = 5, 3, 1, 0.1, 0.01), thus totaling 115 features per row.\n",
    "\n",
    "We have decided to focus on predicting whether on not traffic coming from a device is malitious. After finding a good set of features and a good estimator, we will train the model on one device and test it on the other in order to prove that prediction works."
   ]
  },
  {
   "cell_type": "code",
   "execution_count": 1,
   "metadata": {},
   "outputs": [],
   "source": [
    "import numpy as np\n",
    "import pandas as pd\n",
    "import warnings\n",
    "import seaborn as sns\n",
    "import scipy.stats as st\n",
    "import matplotlib.pyplot as plt\n",
    "from sklearn.model_selection import cross_val_score\n",
    "from sklearn.model_selection import train_test_split\n",
    "from sklearn.metrics import accuracy_score\n",
    "from sklearn.utils import shuffle \n",
    "from sklearn.ensemble import RandomForestClassifier\n",
    "from sklearn.ensemble import IsolationForest\n",
    "from sklearn.metrics import f1_score\n",
    "from sklearn.metrics import precision_score\n",
    "from sklearn.metrics import recall_score\n",
    "from sklearn.feature_selection import SelectKBest, f_classif\n",
    "\n",
    "%matplotlib inline\n",
    "warnings.filterwarnings('ignore')\n",
    "\n",
    "sns.set()"
   ]
  },
  {
   "cell_type": "code",
   "execution_count": 2,
   "metadata": {},
   "outputs": [],
   "source": [
    "#These will get rid of \"...\" in output of methods like .describe()\n",
    "#I commented them out because they seem to cause trouble on github.\n",
    "\n",
    "#pd.set_option('display.max_columns', None)\n",
    "#pd.set_option('display.max_rows', None)"
   ]
  },
  {
   "cell_type": "markdown",
   "metadata": {},
   "source": [
    "As the dataset is very large, we repacked the data a bit (we included the sample we used in our submission).\n",
    "\n",
    "Function bellow reads the data on one device and adds labels to it."
   ]
  },
  {
   "cell_type": "code",
   "execution_count": 3,
   "metadata": {},
   "outputs": [],
   "source": [
    "#returns a dataframe constructed from data of ONE device\n",
    "\n",
    "#folderpath -       path to the data folder\n",
    "\n",
    "#BASHLITE_only -    whether function will use only BASHLITE data, or both BASHLITE and mirai.\n",
    "\n",
    "#equalize_classes - 0) off\n",
    "#                   1) BASHLITE and mirai will get squished to the size of Bening,\n",
    "#                   so all classes will have roughly the same size.\n",
    "#                   2) will take next arg for what size should the botnets be compared to benign \n",
    "#                   (i.e. 0.3 will provide botnet data with a 30% of benign data size) BASHLITE and \n",
    "#                   mirai will always be equal to each other in size. Useful for making datasets \n",
    "#                   imbalanced toward benign.\n",
    "#\n",
    "#botnet_size        (float) see above\n",
    "\n",
    "def read_device_data(folderpath, BASHLITE_only=False, equalize_classes=1, botnet_size=0.5):\n",
    "    df_benign = pd.read_csv(folderpath + 'benign_traffic.csv')\n",
    "    df_bashlite = [pd.DataFrame for i in range(5)]\n",
    "    df_mirai = [pd.DataFrame for i in range(5)]\n",
    "    df_bashlite[0] = pd.read_csv((folderpath + 'combo_bashlite.csv'))\n",
    "    df_bashlite[1] = pd.read_csv((folderpath + 'junk_bashlite.csv'))\n",
    "    df_bashlite[2] = pd.read_csv((folderpath + 'scan_bashlite.csv'))\n",
    "    df_bashlite[3] = pd.read_csv((folderpath + 'tcp_bashlite.csv'))\n",
    "    df_bashlite[4] = pd.read_csv((folderpath + 'udp_bashlite.csv'))\n",
    "    if(not(BASHLITE_only)):\n",
    "        df_mirai[0] = pd.read_csv((folderpath + 'ack_mirai.csv'))\n",
    "        df_mirai[1] = pd.read_csv((folderpath + 'scan_mirai.csv'))\n",
    "        df_mirai[2] = pd.read_csv((folderpath + 'syn_mirai.csv'))\n",
    "        df_mirai[3] = pd.read_csv((folderpath + 'udpplain_mirai.csv'))\n",
    "        df_mirai[4] = pd.read_csv((folderpath + 'udp_mirai.csv'))\n",
    "    benign_size = df_benign.shape[0]\n",
    "    print(\"size of benign :\", benign_size)\n",
    "    bashlite_size = 0\n",
    "    mirai_size = 0\n",
    "    for i in range(5):\n",
    "        bashlite_size += df_bashlite[i].shape[0]\n",
    "    print(\"full size of BASHLITE :\", bashlite_size)\n",
    "    if(not(BASHLITE_only)):\n",
    "        for i in range(5):\n",
    "            mirai_size += df_mirai[i].shape[0]\n",
    "        print(\"full size of mirai :\", mirai_size)\n",
    "    if(equalize_classes != 0):\n",
    "        bashlite_border = 0\n",
    "        mirai_border = 0\n",
    "        if(equalize_classes == 1):  \n",
    "            bashlite_border = bashlite_size / benign_size\n",
    "            if(not(BASHLITE_only)):\n",
    "                mirai_border = mirai_size / benign_size\n",
    "        if(equalize_classes == 2):\n",
    "            if(BASHLITE_only):\n",
    "                bashlite_border = int(benign_size * botnet_size)\n",
    "                bashlite_border = bashlite_size / bashlite_border\n",
    "            else:\n",
    "                bashlite_border = int(benign_size * botnet_size / 2)\n",
    "                bashlite_border = bashlite_size / bashlite_border\n",
    "                mirai_border = int(benign_size * botnet_size / 2)\n",
    "                mirai_border = mirai_size / mirai_border\n",
    "        for i in range(5):\n",
    "            amount = int(df_bashlite[i].shape[0] // bashlite_border)\n",
    "            #print(amount)\n",
    "            df_bashlite[i] = shuffle(df_bashlite[i])\n",
    "            df_bashlite[i].drop(df_bashlite[i].index[amount:], inplace=True)\n",
    "            if(not(BASHLITE_only)):\n",
    "                amount = int(df_mirai[i].shape[0] // mirai_border)\n",
    "                #print(amount)\n",
    "                df_mirai[i] = shuffle(df_mirai[i])\n",
    "                df_mirai[i].drop(df_mirai[i].index[amount:], inplace=True)\n",
    "        bashlite_size = 0\n",
    "        for i in range(5):\n",
    "            bashlite_size += df_bashlite[i].shape[0]\n",
    "        print(\"squished size of BASHLITE :\", bashlite_size)\n",
    "        if(not(BASHLITE_only)):\n",
    "            mirai_size = 0\n",
    "            for i in range(5):\n",
    "                mirai_size += df_mirai[i].shape[0]\n",
    "            print(\"squished size of mirai :\", mirai_size)\n",
    "    df_benign['Botnet'] = 1\n",
    "    df_botnet = pd.concat(df_bashlite, ignore_index=True)\n",
    "    df_botnet['Botnet'] = -1\n",
    "    if(not(BASHLITE_only)):\n",
    "        df_botnet_mirai = pd.concat(df_mirai, ignore_index=True)\n",
    "        df_botnet_mirai['Botnet'] = -1\n",
    "        df_botnet = pd.concat([df_botnet, df_botnet_mirai], ignore_index=True)\n",
    "    \n",
    "    res = pd.concat([df_benign, df_botnet], ignore_index=True)\n",
    "    res = shuffle(res)\n",
    "    print(\"full dataframe size :\", res.shape[0])\n",
    "    return res"
   ]
  },
  {
   "cell_type": "code",
   "execution_count": 4,
   "metadata": {},
   "outputs": [
    {
     "name": "stdout",
     "output_type": "stream",
     "text": [
      "size of benign : 40395\n",
      "full size of BASHLITE : 316650\n",
      "squished size of BASHLITE : 40393\n",
      "full dataframe size : 80788\n"
     ]
    }
   ],
   "source": [
    "data = read_device_data('.\\\\data\\\\doorbell\\\\',  BASHLITE_only=True)"
   ]
  },
  {
   "cell_type": "code",
   "execution_count": 5,
   "metadata": {},
   "outputs": [
    {
     "data": {
      "text/html": [
       "<div>\n",
       "<style scoped>\n",
       "    .dataframe tbody tr th:only-of-type {\n",
       "        vertical-align: middle;\n",
       "    }\n",
       "\n",
       "    .dataframe tbody tr th {\n",
       "        vertical-align: top;\n",
       "    }\n",
       "\n",
       "    .dataframe thead th {\n",
       "        text-align: right;\n",
       "    }\n",
       "</style>\n",
       "<table border=\"1\" class=\"dataframe\">\n",
       "  <thead>\n",
       "    <tr style=\"text-align: right;\">\n",
       "      <th></th>\n",
       "      <th>MI_dir_L5_weight</th>\n",
       "      <th>MI_dir_L5_mean</th>\n",
       "      <th>MI_dir_L5_variance</th>\n",
       "      <th>MI_dir_L3_weight</th>\n",
       "      <th>MI_dir_L3_mean</th>\n",
       "      <th>MI_dir_L3_variance</th>\n",
       "      <th>MI_dir_L1_weight</th>\n",
       "      <th>MI_dir_L1_mean</th>\n",
       "      <th>MI_dir_L1_variance</th>\n",
       "      <th>MI_dir_L0.1_weight</th>\n",
       "      <th>MI_dir_L0.1_mean</th>\n",
       "      <th>MI_dir_L0.1_variance</th>\n",
       "      <th>MI_dir_L0.01_weight</th>\n",
       "      <th>MI_dir_L0.01_mean</th>\n",
       "      <th>MI_dir_L0.01_variance</th>\n",
       "      <th>H_L5_weight</th>\n",
       "      <th>H_L5_mean</th>\n",
       "      <th>H_L5_variance</th>\n",
       "      <th>H_L3_weight</th>\n",
       "      <th>H_L3_mean</th>\n",
       "      <th>H_L3_variance</th>\n",
       "      <th>H_L1_weight</th>\n",
       "      <th>H_L1_mean</th>\n",
       "      <th>H_L1_variance</th>\n",
       "      <th>H_L0.1_weight</th>\n",
       "      <th>H_L0.1_mean</th>\n",
       "      <th>H_L0.1_variance</th>\n",
       "      <th>H_L0.01_weight</th>\n",
       "      <th>H_L0.01_mean</th>\n",
       "      <th>H_L0.01_variance</th>\n",
       "      <th>HH_L5_weight</th>\n",
       "      <th>HH_L5_mean</th>\n",
       "      <th>HH_L5_std</th>\n",
       "      <th>HH_L5_magnitude</th>\n",
       "      <th>HH_L5_radius</th>\n",
       "      <th>HH_L5_covariance</th>\n",
       "      <th>HH_L5_pcc</th>\n",
       "      <th>HH_L3_weight</th>\n",
       "      <th>HH_L3_mean</th>\n",
       "      <th>HH_L3_std</th>\n",
       "      <th>HH_L3_magnitude</th>\n",
       "      <th>HH_L3_radius</th>\n",
       "      <th>HH_L3_covariance</th>\n",
       "      <th>HH_L3_pcc</th>\n",
       "      <th>HH_L1_weight</th>\n",
       "      <th>HH_L1_mean</th>\n",
       "      <th>HH_L1_std</th>\n",
       "      <th>HH_L1_magnitude</th>\n",
       "      <th>HH_L1_radius</th>\n",
       "      <th>HH_L1_covariance</th>\n",
       "      <th>HH_L1_pcc</th>\n",
       "      <th>HH_L0.1_weight</th>\n",
       "      <th>HH_L0.1_mean</th>\n",
       "      <th>HH_L0.1_std</th>\n",
       "      <th>HH_L0.1_magnitude</th>\n",
       "      <th>HH_L0.1_radius</th>\n",
       "      <th>HH_L0.1_covariance</th>\n",
       "      <th>HH_L0.1_pcc</th>\n",
       "      <th>HH_L0.01_weight</th>\n",
       "      <th>HH_L0.01_mean</th>\n",
       "      <th>HH_L0.01_std</th>\n",
       "      <th>HH_L0.01_magnitude</th>\n",
       "      <th>HH_L0.01_radius</th>\n",
       "      <th>HH_L0.01_covariance</th>\n",
       "      <th>HH_L0.01_pcc</th>\n",
       "      <th>HH_jit_L5_weight</th>\n",
       "      <th>HH_jit_L5_mean</th>\n",
       "      <th>HH_jit_L5_variance</th>\n",
       "      <th>HH_jit_L3_weight</th>\n",
       "      <th>HH_jit_L3_mean</th>\n",
       "      <th>HH_jit_L3_variance</th>\n",
       "      <th>HH_jit_L1_weight</th>\n",
       "      <th>HH_jit_L1_mean</th>\n",
       "      <th>HH_jit_L1_variance</th>\n",
       "      <th>HH_jit_L0.1_weight</th>\n",
       "      <th>HH_jit_L0.1_mean</th>\n",
       "      <th>HH_jit_L0.1_variance</th>\n",
       "      <th>HH_jit_L0.01_weight</th>\n",
       "      <th>HH_jit_L0.01_mean</th>\n",
       "      <th>HH_jit_L0.01_variance</th>\n",
       "      <th>HpHp_L5_weight</th>\n",
       "      <th>HpHp_L5_mean</th>\n",
       "      <th>HpHp_L5_std</th>\n",
       "      <th>HpHp_L5_magnitude</th>\n",
       "      <th>HpHp_L5_radius</th>\n",
       "      <th>HpHp_L5_covariance</th>\n",
       "      <th>HpHp_L5_pcc</th>\n",
       "      <th>HpHp_L3_weight</th>\n",
       "      <th>HpHp_L3_mean</th>\n",
       "      <th>HpHp_L3_std</th>\n",
       "      <th>HpHp_L3_magnitude</th>\n",
       "      <th>HpHp_L3_radius</th>\n",
       "      <th>HpHp_L3_covariance</th>\n",
       "      <th>HpHp_L3_pcc</th>\n",
       "      <th>HpHp_L1_weight</th>\n",
       "      <th>HpHp_L1_mean</th>\n",
       "      <th>HpHp_L1_std</th>\n",
       "      <th>HpHp_L1_magnitude</th>\n",
       "      <th>HpHp_L1_radius</th>\n",
       "      <th>HpHp_L1_covariance</th>\n",
       "      <th>HpHp_L1_pcc</th>\n",
       "      <th>HpHp_L0.1_weight</th>\n",
       "      <th>HpHp_L0.1_mean</th>\n",
       "      <th>HpHp_L0.1_std</th>\n",
       "      <th>HpHp_L0.1_magnitude</th>\n",
       "      <th>HpHp_L0.1_radius</th>\n",
       "      <th>HpHp_L0.1_covariance</th>\n",
       "      <th>HpHp_L0.1_pcc</th>\n",
       "      <th>HpHp_L0.01_weight</th>\n",
       "      <th>HpHp_L0.01_mean</th>\n",
       "      <th>HpHp_L0.01_std</th>\n",
       "      <th>HpHp_L0.01_magnitude</th>\n",
       "      <th>HpHp_L0.01_radius</th>\n",
       "      <th>HpHp_L0.01_covariance</th>\n",
       "      <th>HpHp_L0.01_pcc</th>\n",
       "      <th>Botnet</th>\n",
       "    </tr>\n",
       "  </thead>\n",
       "  <tbody>\n",
       "    <tr>\n",
       "      <th>count</th>\n",
       "      <td>80788.000000</td>\n",
       "      <td>80788.000000</td>\n",
       "      <td>8.078800e+04</td>\n",
       "      <td>80788.000000</td>\n",
       "      <td>80788.000000</td>\n",
       "      <td>8.078800e+04</td>\n",
       "      <td>80788.000000</td>\n",
       "      <td>80788.000000</td>\n",
       "      <td>80788.000000</td>\n",
       "      <td>80788.000000</td>\n",
       "      <td>80788.000000</td>\n",
       "      <td>80788.000000</td>\n",
       "      <td>80788.000000</td>\n",
       "      <td>80788.000000</td>\n",
       "      <td>80788.000000</td>\n",
       "      <td>80788.000000</td>\n",
       "      <td>80788.000000</td>\n",
       "      <td>8.078800e+04</td>\n",
       "      <td>80788.000000</td>\n",
       "      <td>80788.000000</td>\n",
       "      <td>8.078800e+04</td>\n",
       "      <td>80788.000000</td>\n",
       "      <td>80788.000000</td>\n",
       "      <td>80788.000000</td>\n",
       "      <td>80788.000000</td>\n",
       "      <td>80788.000000</td>\n",
       "      <td>80788.000000</td>\n",
       "      <td>80788.000000</td>\n",
       "      <td>80788.000000</td>\n",
       "      <td>80788.000000</td>\n",
       "      <td>80788.000000</td>\n",
       "      <td>80788.000000</td>\n",
       "      <td>8.078800e+04</td>\n",
       "      <td>80788.000000</td>\n",
       "      <td>8.078800e+04</td>\n",
       "      <td>80788.000000</td>\n",
       "      <td>80788.000000</td>\n",
       "      <td>80788.000000</td>\n",
       "      <td>80788.000000</td>\n",
       "      <td>80788.000000</td>\n",
       "      <td>80788.000000</td>\n",
       "      <td>8.078800e+04</td>\n",
       "      <td>80788.000000</td>\n",
       "      <td>80788.000000</td>\n",
       "      <td>80788.000000</td>\n",
       "      <td>80788.000000</td>\n",
       "      <td>8.078800e+04</td>\n",
       "      <td>80788.000000</td>\n",
       "      <td>8.078800e+04</td>\n",
       "      <td>8.078800e+04</td>\n",
       "      <td>80788.000000</td>\n",
       "      <td>80788.000000</td>\n",
       "      <td>80788.000000</td>\n",
       "      <td>8.078800e+04</td>\n",
       "      <td>80788.000000</td>\n",
       "      <td>8.078800e+04</td>\n",
       "      <td>8.078800e+04</td>\n",
       "      <td>8.078800e+04</td>\n",
       "      <td>80788.000000</td>\n",
       "      <td>80788.000000</td>\n",
       "      <td>80788.000000</td>\n",
       "      <td>80788.000000</td>\n",
       "      <td>8.078800e+04</td>\n",
       "      <td>8.078800e+04</td>\n",
       "      <td>8.078800e+04</td>\n",
       "      <td>80788.000000</td>\n",
       "      <td>8.078800e+04</td>\n",
       "      <td>8.078800e+04</td>\n",
       "      <td>80788.000000</td>\n",
       "      <td>8.078800e+04</td>\n",
       "      <td>8.078800e+04</td>\n",
       "      <td>80788.000000</td>\n",
       "      <td>8.078800e+04</td>\n",
       "      <td>8.078800e+04</td>\n",
       "      <td>80788.000000</td>\n",
       "      <td>8.078800e+04</td>\n",
       "      <td>8.078800e+04</td>\n",
       "      <td>80788.000000</td>\n",
       "      <td>8.078800e+04</td>\n",
       "      <td>8.078800e+04</td>\n",
       "      <td>80788.000000</td>\n",
       "      <td>80788.000000</td>\n",
       "      <td>80788.000000</td>\n",
       "      <td>80788.000000</td>\n",
       "      <td>80788.000000</td>\n",
       "      <td>80788.000000</td>\n",
       "      <td>80788.000000</td>\n",
       "      <td>80788.000000</td>\n",
       "      <td>80788.000000</td>\n",
       "      <td>80788.000000</td>\n",
       "      <td>80788.000000</td>\n",
       "      <td>80788.000000</td>\n",
       "      <td>80788.000000</td>\n",
       "      <td>80788.000000</td>\n",
       "      <td>80788.000000</td>\n",
       "      <td>80788.000000</td>\n",
       "      <td>8.078800e+04</td>\n",
       "      <td>80788.000000</td>\n",
       "      <td>8.078800e+04</td>\n",
       "      <td>80788.000000</td>\n",
       "      <td>80788.000000</td>\n",
       "      <td>80788.000000</td>\n",
       "      <td>80788.000000</td>\n",
       "      <td>8.078800e+04</td>\n",
       "      <td>80788.000000</td>\n",
       "      <td>8.078800e+04</td>\n",
       "      <td>8.078800e+04</td>\n",
       "      <td>80788.000000</td>\n",
       "      <td>80788.000000</td>\n",
       "      <td>80788.000000</td>\n",
       "      <td>80788.000000</td>\n",
       "      <td>80788.000000</td>\n",
       "      <td>8.078800e+04</td>\n",
       "      <td>8.078800e+04</td>\n",
       "      <td>80788.000000</td>\n",
       "      <td>80788.000000</td>\n",
       "    </tr>\n",
       "    <tr>\n",
       "      <th>mean</th>\n",
       "      <td>26.767706</td>\n",
       "      <td>79.056769</td>\n",
       "      <td>1.308252e+02</td>\n",
       "      <td>42.418975</td>\n",
       "      <td>79.059997</td>\n",
       "      <td>1.484816e+02</td>\n",
       "      <td>118.031455</td>\n",
       "      <td>79.283198</td>\n",
       "      <td>185.489844</td>\n",
       "      <td>944.517516</td>\n",
       "      <td>79.861717</td>\n",
       "      <td>260.118536</td>\n",
       "      <td>3196.672943</td>\n",
       "      <td>79.120971</td>\n",
       "      <td>278.833433</td>\n",
       "      <td>26.767706</td>\n",
       "      <td>79.056769</td>\n",
       "      <td>1.308252e+02</td>\n",
       "      <td>42.418975</td>\n",
       "      <td>79.059997</td>\n",
       "      <td>1.484816e+02</td>\n",
       "      <td>118.031455</td>\n",
       "      <td>79.283190</td>\n",
       "      <td>185.489952</td>\n",
       "      <td>944.517555</td>\n",
       "      <td>79.861526</td>\n",
       "      <td>260.119752</td>\n",
       "      <td>3196.673120</td>\n",
       "      <td>79.120456</td>\n",
       "      <td>278.835376</td>\n",
       "      <td>23.753650</td>\n",
       "      <td>79.011361</td>\n",
       "      <td>1.009471e-01</td>\n",
       "      <td>101.015823</td>\n",
       "      <td>1.737598e+01</td>\n",
       "      <td>0.174976</td>\n",
       "      <td>0.000107</td>\n",
       "      <td>38.318276</td>\n",
       "      <td>79.010498</td>\n",
       "      <td>0.161320</td>\n",
       "      <td>101.016195</td>\n",
       "      <td>1.925642e+01</td>\n",
       "      <td>0.243141</td>\n",
       "      <td>0.000262</td>\n",
       "      <td>109.659327</td>\n",
       "      <td>79.081283</td>\n",
       "      <td>7.521676e-01</td>\n",
       "      <td>101.104884</td>\n",
       "      <td>3.786672e+01</td>\n",
       "      <td>4.992661e-01</td>\n",
       "      <td>0.002216</td>\n",
       "      <td>892.696067</td>\n",
       "      <td>79.541706</td>\n",
       "      <td>3.185704e+00</td>\n",
       "      <td>101.828143</td>\n",
       "      <td>1.482932e+02</td>\n",
       "      <td>8.622168e+00</td>\n",
       "      <td>1.929060e-02</td>\n",
       "      <td>2842.317708</td>\n",
       "      <td>79.116071</td>\n",
       "      <td>3.693175</td>\n",
       "      <td>101.490571</td>\n",
       "      <td>2.163220e+02</td>\n",
       "      <td>2.213409e+01</td>\n",
       "      <td>3.866902e-02</td>\n",
       "      <td>23.753650</td>\n",
       "      <td>4.971712e+08</td>\n",
       "      <td>1.505731e+14</td>\n",
       "      <td>38.318276</td>\n",
       "      <td>4.972450e+08</td>\n",
       "      <td>2.374706e+14</td>\n",
       "      <td>109.659327</td>\n",
       "      <td>4.996615e+08</td>\n",
       "      <td>3.441160e+15</td>\n",
       "      <td>892.696067</td>\n",
       "      <td>5.121517e+08</td>\n",
       "      <td>1.428853e+16</td>\n",
       "      <td>2842.317708</td>\n",
       "      <td>5.158477e+08</td>\n",
       "      <td>1.663263e+16</td>\n",
       "      <td>1.009592</td>\n",
       "      <td>79.016563</td>\n",
       "      <td>0.022624</td>\n",
       "      <td>99.314889</td>\n",
       "      <td>2.214432</td>\n",
       "      <td>0.169753</td>\n",
       "      <td>0.000017</td>\n",
       "      <td>1.010668</td>\n",
       "      <td>79.015763</td>\n",
       "      <td>0.024743</td>\n",
       "      <td>99.313620</td>\n",
       "      <td>2.697322</td>\n",
       "      <td>0.216838</td>\n",
       "      <td>0.000031</td>\n",
       "      <td>1.015790</td>\n",
       "      <td>79.015893</td>\n",
       "      <td>2.877133e-02</td>\n",
       "      <td>99.305589</td>\n",
       "      <td>3.497026e+00</td>\n",
       "      <td>0.315501</td>\n",
       "      <td>0.000063</td>\n",
       "      <td>1.123992</td>\n",
       "      <td>79.025931</td>\n",
       "      <td>4.992369e-02</td>\n",
       "      <td>99.282868</td>\n",
       "      <td>2.693334e+01</td>\n",
       "      <td>3.224627e+00</td>\n",
       "      <td>0.000159</td>\n",
       "      <td>3.104447</td>\n",
       "      <td>79.024912</td>\n",
       "      <td>0.066933</td>\n",
       "      <td>99.267860</td>\n",
       "      <td>4.039521e+01</td>\n",
       "      <td>8.159997e+00</td>\n",
       "      <td>0.000528</td>\n",
       "      <td>0.000025</td>\n",
       "    </tr>\n",
       "    <tr>\n",
       "      <th>std</th>\n",
       "      <td>57.483840</td>\n",
       "      <td>20.355714</td>\n",
       "      <td>2.189445e+03</td>\n",
       "      <td>93.861649</td>\n",
       "      <td>19.975528</td>\n",
       "      <td>2.308031e+03</td>\n",
       "      <td>272.846469</td>\n",
       "      <td>18.950420</td>\n",
       "      <td>2271.759895</td>\n",
       "      <td>2299.610837</td>\n",
       "      <td>16.041492</td>\n",
       "      <td>1558.049056</td>\n",
       "      <td>8306.323865</td>\n",
       "      <td>14.811610</td>\n",
       "      <td>1283.271864</td>\n",
       "      <td>57.483840</td>\n",
       "      <td>20.355714</td>\n",
       "      <td>2.189445e+03</td>\n",
       "      <td>93.861649</td>\n",
       "      <td>19.975528</td>\n",
       "      <td>2.308031e+03</td>\n",
       "      <td>272.846469</td>\n",
       "      <td>18.950303</td>\n",
       "      <td>2271.759888</td>\n",
       "      <td>2299.610820</td>\n",
       "      <td>16.038247</td>\n",
       "      <td>1558.048892</td>\n",
       "      <td>8306.323797</td>\n",
       "      <td>14.802121</td>\n",
       "      <td>1283.271512</td>\n",
       "      <td>57.141989</td>\n",
       "      <td>22.573336</td>\n",
       "      <td>1.479906e+00</td>\n",
       "      <td>40.629782</td>\n",
       "      <td>2.107694e+03</td>\n",
       "      <td>24.918756</td>\n",
       "      <td>0.007001</td>\n",
       "      <td>93.500558</td>\n",
       "      <td>22.548650</td>\n",
       "      <td>1.736485</td>\n",
       "      <td>40.617114</td>\n",
       "      <td>2.036463e+03</td>\n",
       "      <td>29.956724</td>\n",
       "      <td>0.009418</td>\n",
       "      <td>272.556276</td>\n",
       "      <td>22.433695</td>\n",
       "      <td>3.776239e+00</td>\n",
       "      <td>40.569235</td>\n",
       "      <td>2.158199e+03</td>\n",
       "      <td>4.714004e+01</td>\n",
       "      <td>0.021499</td>\n",
       "      <td>2298.396632</td>\n",
       "      <td>21.726502</td>\n",
       "      <td>7.533070e+00</td>\n",
       "      <td>39.818694</td>\n",
       "      <td>3.503545e+03</td>\n",
       "      <td>2.359689e+02</td>\n",
       "      <td>9.484178e-02</td>\n",
       "      <td>8240.837654</td>\n",
       "      <td>21.340935</td>\n",
       "      <td>8.359351</td>\n",
       "      <td>38.719765</td>\n",
       "      <td>5.644088e+03</td>\n",
       "      <td>5.008581e+02</td>\n",
       "      <td>1.039638e-01</td>\n",
       "      <td>57.141989</td>\n",
       "      <td>7.080770e+08</td>\n",
       "      <td>8.036241e+15</td>\n",
       "      <td>93.500558</td>\n",
       "      <td>7.080422e+08</td>\n",
       "      <td>8.998787e+15</td>\n",
       "      <td>272.556276</td>\n",
       "      <td>7.066471e+08</td>\n",
       "      <td>2.824080e+16</td>\n",
       "      <td>2298.396632</td>\n",
       "      <td>7.033308e+08</td>\n",
       "      <td>8.252573e+16</td>\n",
       "      <td>8240.837654</td>\n",
       "      <td>7.029201e+08</td>\n",
       "      <td>9.091405e+16</td>\n",
       "      <td>0.115026</td>\n",
       "      <td>22.602501</td>\n",
       "      <td>0.920664</td>\n",
       "      <td>41.981914</td>\n",
       "      <td>140.665739</td>\n",
       "      <td>24.962600</td>\n",
       "      <td>0.004072</td>\n",
       "      <td>0.122212</td>\n",
       "      <td>22.591169</td>\n",
       "      <td>1.024816</td>\n",
       "      <td>41.968020</td>\n",
       "      <td>170.967145</td>\n",
       "      <td>28.379052</td>\n",
       "      <td>0.004473</td>\n",
       "      <td>0.143489</td>\n",
       "      <td>22.577250</td>\n",
       "      <td>1.162153e+00</td>\n",
       "      <td>41.940351</td>\n",
       "      <td>2.160488e+02</td>\n",
       "      <td>33.539325</td>\n",
       "      <td>0.005812</td>\n",
       "      <td>0.488742</td>\n",
       "      <td>22.586756</td>\n",
       "      <td>2.145108e+00</td>\n",
       "      <td>41.377497</td>\n",
       "      <td>2.099612e+03</td>\n",
       "      <td>2.904219e+02</td>\n",
       "      <td>0.008912</td>\n",
       "      <td>3.470299</td>\n",
       "      <td>22.592503</td>\n",
       "      <td>2.381068</td>\n",
       "      <td>41.048062</td>\n",
       "      <td>3.202869e+03</td>\n",
       "      <td>7.446038e+02</td>\n",
       "      <td>0.015492</td>\n",
       "      <td>1.000006</td>\n",
       "    </tr>\n",
       "    <tr>\n",
       "      <th>min</th>\n",
       "      <td>1.000000</td>\n",
       "      <td>60.000000</td>\n",
       "      <td>0.000000e+00</td>\n",
       "      <td>1.000000</td>\n",
       "      <td>60.000000</td>\n",
       "      <td>0.000000e+00</td>\n",
       "      <td>1.000000</td>\n",
       "      <td>60.000000</td>\n",
       "      <td>0.000000</td>\n",
       "      <td>1.000000</td>\n",
       "      <td>60.000000</td>\n",
       "      <td>0.000000</td>\n",
       "      <td>1.000000</td>\n",
       "      <td>60.000000</td>\n",
       "      <td>0.000000</td>\n",
       "      <td>1.000000</td>\n",
       "      <td>60.000000</td>\n",
       "      <td>0.000000e+00</td>\n",
       "      <td>1.000000</td>\n",
       "      <td>60.000000</td>\n",
       "      <td>0.000000e+00</td>\n",
       "      <td>1.000000</td>\n",
       "      <td>60.000000</td>\n",
       "      <td>0.000000</td>\n",
       "      <td>1.000000</td>\n",
       "      <td>60.000000</td>\n",
       "      <td>0.000000</td>\n",
       "      <td>1.000000</td>\n",
       "      <td>60.000000</td>\n",
       "      <td>0.000000</td>\n",
       "      <td>1.000000</td>\n",
       "      <td>60.000000</td>\n",
       "      <td>0.000000e+00</td>\n",
       "      <td>60.000000</td>\n",
       "      <td>0.000000e+00</td>\n",
       "      <td>-1763.194348</td>\n",
       "      <td>-0.483815</td>\n",
       "      <td>1.000000</td>\n",
       "      <td>60.000000</td>\n",
       "      <td>0.000000</td>\n",
       "      <td>60.000000</td>\n",
       "      <td>0.000000e+00</td>\n",
       "      <td>-1816.625316</td>\n",
       "      <td>-0.490352</td>\n",
       "      <td>1.000000</td>\n",
       "      <td>60.000000</td>\n",
       "      <td>0.000000e+00</td>\n",
       "      <td>60.000000</td>\n",
       "      <td>0.000000e+00</td>\n",
       "      <td>-4.077541e+03</td>\n",
       "      <td>-0.496806</td>\n",
       "      <td>1.000000</td>\n",
       "      <td>60.000000</td>\n",
       "      <td>0.000000e+00</td>\n",
       "      <td>60.000000</td>\n",
       "      <td>0.000000e+00</td>\n",
       "      <td>-3.100541e+03</td>\n",
       "      <td>-6.756953e-01</td>\n",
       "      <td>1.000000</td>\n",
       "      <td>60.000000</td>\n",
       "      <td>0.000000</td>\n",
       "      <td>60.000000</td>\n",
       "      <td>0.000000e+00</td>\n",
       "      <td>-2.182227e+03</td>\n",
       "      <td>-5.723675e-01</td>\n",
       "      <td>1.000000</td>\n",
       "      <td>1.051547e-03</td>\n",
       "      <td>0.000000e+00</td>\n",
       "      <td>1.000000</td>\n",
       "      <td>1.252767e-03</td>\n",
       "      <td>0.000000e+00</td>\n",
       "      <td>1.000000</td>\n",
       "      <td>1.547054e-03</td>\n",
       "      <td>0.000000e+00</td>\n",
       "      <td>1.000000</td>\n",
       "      <td>9.398519e-01</td>\n",
       "      <td>0.000000e+00</td>\n",
       "      <td>1.000000</td>\n",
       "      <td>9.310477e+00</td>\n",
       "      <td>0.000000e+00</td>\n",
       "      <td>1.000000</td>\n",
       "      <td>60.000000</td>\n",
       "      <td>0.000000</td>\n",
       "      <td>60.000000</td>\n",
       "      <td>0.000000</td>\n",
       "      <td>-1766.226430</td>\n",
       "      <td>-0.456641</td>\n",
       "      <td>1.000000</td>\n",
       "      <td>60.000000</td>\n",
       "      <td>0.000000</td>\n",
       "      <td>60.000000</td>\n",
       "      <td>0.000000</td>\n",
       "      <td>-1592.623242</td>\n",
       "      <td>-0.265261</td>\n",
       "      <td>1.000000</td>\n",
       "      <td>60.000000</td>\n",
       "      <td>0.000000e+00</td>\n",
       "      <td>60.000000</td>\n",
       "      <td>0.000000e+00</td>\n",
       "      <td>-1085.807486</td>\n",
       "      <td>-0.198731</td>\n",
       "      <td>1.000000</td>\n",
       "      <td>60.000000</td>\n",
       "      <td>0.000000e+00</td>\n",
       "      <td>60.000000</td>\n",
       "      <td>0.000000e+00</td>\n",
       "      <td>-2.286823e+03</td>\n",
       "      <td>-0.142042</td>\n",
       "      <td>1.000000</td>\n",
       "      <td>60.000000</td>\n",
       "      <td>0.000000</td>\n",
       "      <td>60.000000</td>\n",
       "      <td>0.000000e+00</td>\n",
       "      <td>-1.017176e+03</td>\n",
       "      <td>-0.135352</td>\n",
       "      <td>-1.000000</td>\n",
       "    </tr>\n",
       "    <tr>\n",
       "      <th>25%</th>\n",
       "      <td>1.000000</td>\n",
       "      <td>60.000000</td>\n",
       "      <td>0.000000e+00</td>\n",
       "      <td>1.000000</td>\n",
       "      <td>60.000000</td>\n",
       "      <td>0.000000e+00</td>\n",
       "      <td>1.000000</td>\n",
       "      <td>60.000000</td>\n",
       "      <td>0.000000</td>\n",
       "      <td>1.000000</td>\n",
       "      <td>60.000000</td>\n",
       "      <td>0.000000</td>\n",
       "      <td>1.000000</td>\n",
       "      <td>60.000000</td>\n",
       "      <td>0.000000</td>\n",
       "      <td>1.000000</td>\n",
       "      <td>60.000000</td>\n",
       "      <td>0.000000e+00</td>\n",
       "      <td>1.000000</td>\n",
       "      <td>60.000000</td>\n",
       "      <td>0.000000e+00</td>\n",
       "      <td>1.000000</td>\n",
       "      <td>60.000000</td>\n",
       "      <td>0.000000</td>\n",
       "      <td>1.000000</td>\n",
       "      <td>60.000000</td>\n",
       "      <td>0.000000</td>\n",
       "      <td>1.000000</td>\n",
       "      <td>60.000000</td>\n",
       "      <td>0.000000</td>\n",
       "      <td>1.000000</td>\n",
       "      <td>60.000000</td>\n",
       "      <td>0.000000e+00</td>\n",
       "      <td>60.000000</td>\n",
       "      <td>0.000000e+00</td>\n",
       "      <td>0.000000</td>\n",
       "      <td>0.000000</td>\n",
       "      <td>1.000000</td>\n",
       "      <td>60.000000</td>\n",
       "      <td>0.000000</td>\n",
       "      <td>60.000000</td>\n",
       "      <td>0.000000e+00</td>\n",
       "      <td>0.000000</td>\n",
       "      <td>0.000000</td>\n",
       "      <td>1.000000</td>\n",
       "      <td>60.000000</td>\n",
       "      <td>0.000000e+00</td>\n",
       "      <td>60.000000</td>\n",
       "      <td>0.000000e+00</td>\n",
       "      <td>-4.700000e-145</td>\n",
       "      <td>0.000000</td>\n",
       "      <td>1.000000</td>\n",
       "      <td>60.000000</td>\n",
       "      <td>0.000000e+00</td>\n",
       "      <td>60.000000</td>\n",
       "      <td>0.000000e+00</td>\n",
       "      <td>0.000000e+00</td>\n",
       "      <td>0.000000e+00</td>\n",
       "      <td>1.000000</td>\n",
       "      <td>60.000000</td>\n",
       "      <td>0.000000</td>\n",
       "      <td>60.000000</td>\n",
       "      <td>0.000000e+00</td>\n",
       "      <td>0.000000e+00</td>\n",
       "      <td>0.000000e+00</td>\n",
       "      <td>1.000000</td>\n",
       "      <td>1.035971e+01</td>\n",
       "      <td>0.000000e+00</td>\n",
       "      <td>1.000000</td>\n",
       "      <td>1.618397e+01</td>\n",
       "      <td>0.000000e+00</td>\n",
       "      <td>1.000000</td>\n",
       "      <td>2.434645e+01</td>\n",
       "      <td>0.000000e+00</td>\n",
       "      <td>1.000000</td>\n",
       "      <td>3.901247e+01</td>\n",
       "      <td>0.000000e+00</td>\n",
       "      <td>1.000000</td>\n",
       "      <td>3.901754e+01</td>\n",
       "      <td>0.000000e+00</td>\n",
       "      <td>1.000000</td>\n",
       "      <td>60.000000</td>\n",
       "      <td>0.000000</td>\n",
       "      <td>60.000000</td>\n",
       "      <td>0.000000</td>\n",
       "      <td>0.000000</td>\n",
       "      <td>0.000000</td>\n",
       "      <td>1.000000</td>\n",
       "      <td>60.000000</td>\n",
       "      <td>0.000000</td>\n",
       "      <td>60.000000</td>\n",
       "      <td>0.000000</td>\n",
       "      <td>0.000000</td>\n",
       "      <td>0.000000</td>\n",
       "      <td>1.000000</td>\n",
       "      <td>60.000000</td>\n",
       "      <td>0.000000e+00</td>\n",
       "      <td>60.000000</td>\n",
       "      <td>0.000000e+00</td>\n",
       "      <td>0.000000</td>\n",
       "      <td>0.000000</td>\n",
       "      <td>1.000000</td>\n",
       "      <td>60.000000</td>\n",
       "      <td>0.000000e+00</td>\n",
       "      <td>60.000000</td>\n",
       "      <td>0.000000e+00</td>\n",
       "      <td>0.000000e+00</td>\n",
       "      <td>0.000000</td>\n",
       "      <td>1.000000</td>\n",
       "      <td>60.000000</td>\n",
       "      <td>0.000000</td>\n",
       "      <td>60.000000</td>\n",
       "      <td>0.000000e+00</td>\n",
       "      <td>0.000000e+00</td>\n",
       "      <td>0.000000</td>\n",
       "      <td>-1.000000</td>\n",
       "    </tr>\n",
       "    <tr>\n",
       "      <th>50%</th>\n",
       "      <td>1.000001</td>\n",
       "      <td>74.038276</td>\n",
       "      <td>3.640000e-12</td>\n",
       "      <td>1.000265</td>\n",
       "      <td>74.055056</td>\n",
       "      <td>1.555000e-09</td>\n",
       "      <td>1.156945</td>\n",
       "      <td>74.120635</td>\n",
       "      <td>0.080607</td>\n",
       "      <td>3.568522</td>\n",
       "      <td>79.424910</td>\n",
       "      <td>106.784637</td>\n",
       "      <td>29.560044</td>\n",
       "      <td>88.040878</td>\n",
       "      <td>256.019391</td>\n",
       "      <td>1.000001</td>\n",
       "      <td>74.038276</td>\n",
       "      <td>3.640000e-12</td>\n",
       "      <td>1.000265</td>\n",
       "      <td>74.055056</td>\n",
       "      <td>1.560000e-09</td>\n",
       "      <td>1.156945</td>\n",
       "      <td>74.120635</td>\n",
       "      <td>0.080818</td>\n",
       "      <td>3.568717</td>\n",
       "      <td>79.424910</td>\n",
       "      <td>106.784637</td>\n",
       "      <td>29.560044</td>\n",
       "      <td>88.040878</td>\n",
       "      <td>256.019391</td>\n",
       "      <td>1.000000</td>\n",
       "      <td>74.000000</td>\n",
       "      <td>0.000000e+00</td>\n",
       "      <td>95.268043</td>\n",
       "      <td>0.000000e+00</td>\n",
       "      <td>0.000000</td>\n",
       "      <td>0.000000</td>\n",
       "      <td>1.000000</td>\n",
       "      <td>74.000000</td>\n",
       "      <td>0.000000</td>\n",
       "      <td>95.268043</td>\n",
       "      <td>0.000000e+00</td>\n",
       "      <td>0.000000</td>\n",
       "      <td>0.000000</td>\n",
       "      <td>1.000000</td>\n",
       "      <td>73.999992</td>\n",
       "      <td>9.536743e-07</td>\n",
       "      <td>95.268034</td>\n",
       "      <td>1.820000e-12</td>\n",
       "      <td>0.000000e+00</td>\n",
       "      <td>0.000000</td>\n",
       "      <td>1.071680</td>\n",
       "      <td>73.999374</td>\n",
       "      <td>9.536743e-07</td>\n",
       "      <td>95.267559</td>\n",
       "      <td>1.820000e-12</td>\n",
       "      <td>0.000000e+00</td>\n",
       "      <td>0.000000e+00</td>\n",
       "      <td>4.219361</td>\n",
       "      <td>74.000000</td>\n",
       "      <td>0.000001</td>\n",
       "      <td>99.628936</td>\n",
       "      <td>3.640000e-12</td>\n",
       "      <td>0.000000e+00</td>\n",
       "      <td>0.000000e+00</td>\n",
       "      <td>1.000000</td>\n",
       "      <td>3.902456e+01</td>\n",
       "      <td>0.000000e+00</td>\n",
       "      <td>1.000000</td>\n",
       "      <td>3.902500e+01</td>\n",
       "      <td>0.000000e+00</td>\n",
       "      <td>1.000000</td>\n",
       "      <td>3.902897e+01</td>\n",
       "      <td>2.270000e-13</td>\n",
       "      <td>1.071680</td>\n",
       "      <td>1.087609e+02</td>\n",
       "      <td>6.280000e-05</td>\n",
       "      <td>4.219361</td>\n",
       "      <td>2.119550e+04</td>\n",
       "      <td>1.172860e-01</td>\n",
       "      <td>1.000000</td>\n",
       "      <td>74.000000</td>\n",
       "      <td>0.000000</td>\n",
       "      <td>84.852814</td>\n",
       "      <td>0.000000</td>\n",
       "      <td>0.000000</td>\n",
       "      <td>0.000000</td>\n",
       "      <td>1.000000</td>\n",
       "      <td>74.000000</td>\n",
       "      <td>0.000000</td>\n",
       "      <td>84.852814</td>\n",
       "      <td>0.000000</td>\n",
       "      <td>0.000000</td>\n",
       "      <td>0.000000</td>\n",
       "      <td>1.000000</td>\n",
       "      <td>74.000000</td>\n",
       "      <td>0.000000e+00</td>\n",
       "      <td>84.852814</td>\n",
       "      <td>0.000000e+00</td>\n",
       "      <td>0.000000</td>\n",
       "      <td>0.000000</td>\n",
       "      <td>1.071124</td>\n",
       "      <td>74.000000</td>\n",
       "      <td>0.000000e+00</td>\n",
       "      <td>84.852814</td>\n",
       "      <td>0.000000e+00</td>\n",
       "      <td>0.000000e+00</td>\n",
       "      <td>0.000000</td>\n",
       "      <td>2.898599</td>\n",
       "      <td>74.000000</td>\n",
       "      <td>0.000000</td>\n",
       "      <td>84.852814</td>\n",
       "      <td>6.430000e-13</td>\n",
       "      <td>0.000000e+00</td>\n",
       "      <td>0.000000</td>\n",
       "      <td>1.000000</td>\n",
       "    </tr>\n",
       "    <tr>\n",
       "      <th>75%</th>\n",
       "      <td>4.058257</td>\n",
       "      <td>101.999791</td>\n",
       "      <td>1.138387e-01</td>\n",
       "      <td>4.359201</td>\n",
       "      <td>101.987908</td>\n",
       "      <td>5.324455e-01</td>\n",
       "      <td>4.917204</td>\n",
       "      <td>101.357919</td>\n",
       "      <td>22.402596</td>\n",
       "      <td>6.109747</td>\n",
       "      <td>95.102821</td>\n",
       "      <td>273.134240</td>\n",
       "      <td>32.612520</td>\n",
       "      <td>92.504146</td>\n",
       "      <td>293.961556</td>\n",
       "      <td>4.058257</td>\n",
       "      <td>101.999791</td>\n",
       "      <td>1.138387e-01</td>\n",
       "      <td>4.359201</td>\n",
       "      <td>101.987908</td>\n",
       "      <td>5.324455e-01</td>\n",
       "      <td>4.917204</td>\n",
       "      <td>101.357919</td>\n",
       "      <td>22.402596</td>\n",
       "      <td>6.109747</td>\n",
       "      <td>95.102821</td>\n",
       "      <td>273.134240</td>\n",
       "      <td>32.612520</td>\n",
       "      <td>92.504146</td>\n",
       "      <td>293.961556</td>\n",
       "      <td>1.000000</td>\n",
       "      <td>102.000000</td>\n",
       "      <td>6.740000e-07</td>\n",
       "      <td>144.249783</td>\n",
       "      <td>7.332581e-12</td>\n",
       "      <td>0.000000</td>\n",
       "      <td>0.000000</td>\n",
       "      <td>1.000004</td>\n",
       "      <td>102.000000</td>\n",
       "      <td>0.000001</td>\n",
       "      <td>144.249783</td>\n",
       "      <td>1.320000e-10</td>\n",
       "      <td>0.000000</td>\n",
       "      <td>0.000000</td>\n",
       "      <td>1.017405</td>\n",
       "      <td>102.000000</td>\n",
       "      <td>6.301260e-03</td>\n",
       "      <td>144.249783</td>\n",
       "      <td>6.290832e-04</td>\n",
       "      <td>3.600000e-110</td>\n",
       "      <td>0.000000</td>\n",
       "      <td>1.912388</td>\n",
       "      <td>102.000000</td>\n",
       "      <td>1.614251e-01</td>\n",
       "      <td>144.249783</td>\n",
       "      <td>2.642166e-02</td>\n",
       "      <td>2.320000e-29</td>\n",
       "      <td>6.160000e-18</td>\n",
       "      <td>11.499693</td>\n",
       "      <td>102.000000</td>\n",
       "      <td>0.167158</td>\n",
       "      <td>144.249783</td>\n",
       "      <td>2.817178e-02</td>\n",
       "      <td>5.296049e-17</td>\n",
       "      <td>4.691770e-11</td>\n",
       "      <td>1.000000</td>\n",
       "      <td>1.505913e+09</td>\n",
       "      <td>1.590000e-07</td>\n",
       "      <td>1.000004</td>\n",
       "      <td>1.505913e+09</td>\n",
       "      <td>1.420094e-05</td>\n",
       "      <td>1.017405</td>\n",
       "      <td>1.505913e+09</td>\n",
       "      <td>5.251324e-04</td>\n",
       "      <td>1.912388</td>\n",
       "      <td>1.505913e+09</td>\n",
       "      <td>8.944378e+01</td>\n",
       "      <td>11.499693</td>\n",
       "      <td>1.505913e+09</td>\n",
       "      <td>1.192029e+02</td>\n",
       "      <td>1.000000</td>\n",
       "      <td>102.000000</td>\n",
       "      <td>0.000000</td>\n",
       "      <td>144.249783</td>\n",
       "      <td>0.000000</td>\n",
       "      <td>0.000000</td>\n",
       "      <td>0.000000</td>\n",
       "      <td>1.000000</td>\n",
       "      <td>102.000000</td>\n",
       "      <td>0.000000</td>\n",
       "      <td>144.249783</td>\n",
       "      <td>0.000000</td>\n",
       "      <td>0.000000</td>\n",
       "      <td>0.000000</td>\n",
       "      <td>1.000000</td>\n",
       "      <td>102.000000</td>\n",
       "      <td>6.740000e-07</td>\n",
       "      <td>144.249783</td>\n",
       "      <td>1.820000e-12</td>\n",
       "      <td>0.000000</td>\n",
       "      <td>0.000000</td>\n",
       "      <td>1.071872</td>\n",
       "      <td>102.000000</td>\n",
       "      <td>9.536743e-07</td>\n",
       "      <td>144.249783</td>\n",
       "      <td>1.820000e-12</td>\n",
       "      <td>9.130000e-103</td>\n",
       "      <td>0.000000</td>\n",
       "      <td>4.220219</td>\n",
       "      <td>102.000000</td>\n",
       "      <td>0.000001</td>\n",
       "      <td>144.249783</td>\n",
       "      <td>3.640000e-12</td>\n",
       "      <td>1.092500e-31</td>\n",
       "      <td>0.000000</td>\n",
       "      <td>1.000000</td>\n",
       "    </tr>\n",
       "    <tr>\n",
       "      <th>max</th>\n",
       "      <td>302.509857</td>\n",
       "      <td>886.166851</td>\n",
       "      <td>1.712281e+05</td>\n",
       "      <td>407.461021</td>\n",
       "      <td>846.320306</td>\n",
       "      <td>1.728106e+05</td>\n",
       "      <td>963.941417</td>\n",
       "      <td>610.162051</td>\n",
       "      <td>173077.043447</td>\n",
       "      <td>7964.172032</td>\n",
       "      <td>373.038376</td>\n",
       "      <td>133517.647587</td>\n",
       "      <td>41591.839916</td>\n",
       "      <td>360.000920</td>\n",
       "      <td>117801.394214</td>\n",
       "      <td>302.509857</td>\n",
       "      <td>886.166851</td>\n",
       "      <td>1.712281e+05</td>\n",
       "      <td>407.461021</td>\n",
       "      <td>846.320306</td>\n",
       "      <td>1.728106e+05</td>\n",
       "      <td>963.941417</td>\n",
       "      <td>610.162051</td>\n",
       "      <td>173077.043447</td>\n",
       "      <td>7964.172032</td>\n",
       "      <td>373.038376</td>\n",
       "      <td>133517.647587</td>\n",
       "      <td>41591.839916</td>\n",
       "      <td>349.390766</td>\n",
       "      <td>117801.394214</td>\n",
       "      <td>302.425730</td>\n",
       "      <td>909.000000</td>\n",
       "      <td>1.457139e+02</td>\n",
       "      <td>1455.497166</td>\n",
       "      <td>4.327120e+05</td>\n",
       "      <td>3591.896037</td>\n",
       "      <td>0.491561</td>\n",
       "      <td>407.141325</td>\n",
       "      <td>909.000000</td>\n",
       "      <td>162.003707</td>\n",
       "      <td>1455.497165</td>\n",
       "      <td>4.190115e+05</td>\n",
       "      <td>3898.881801</td>\n",
       "      <td>0.570974</td>\n",
       "      <td>961.780955</td>\n",
       "      <td>909.000000</td>\n",
       "      <td>3.469616e+02</td>\n",
       "      <td>1455.294247</td>\n",
       "      <td>4.043915e+05</td>\n",
       "      <td>8.428814e+03</td>\n",
       "      <td>0.692923</td>\n",
       "      <td>7944.986856</td>\n",
       "      <td>909.000000</td>\n",
       "      <td>3.304218e+02</td>\n",
       "      <td>1367.602454</td>\n",
       "      <td>4.336672e+05</td>\n",
       "      <td>3.139770e+04</td>\n",
       "      <td>1.121369e+00</td>\n",
       "      <td>41461.883026</td>\n",
       "      <td>909.000000</td>\n",
       "      <td>300.446884</td>\n",
       "      <td>1256.913723</td>\n",
       "      <td>4.829986e+05</td>\n",
       "      <td>6.827325e+04</td>\n",
       "      <td>1.053692e+00</td>\n",
       "      <td>302.425730</td>\n",
       "      <td>1.505914e+09</td>\n",
       "      <td>5.660000e+17</td>\n",
       "      <td>407.141325</td>\n",
       "      <td>1.505914e+09</td>\n",
       "      <td>5.670000e+17</td>\n",
       "      <td>961.780955</td>\n",
       "      <td>1.505914e+09</td>\n",
       "      <td>5.670000e+17</td>\n",
       "      <td>7944.986856</td>\n",
       "      <td>1.505914e+09</td>\n",
       "      <td>5.670000e+17</td>\n",
       "      <td>41461.883026</td>\n",
       "      <td>1.505914e+09</td>\n",
       "      <td>5.670000e+17</td>\n",
       "      <td>10.939344</td>\n",
       "      <td>909.000000</td>\n",
       "      <td>106.826408</td>\n",
       "      <td>1455.497166</td>\n",
       "      <td>11622.460570</td>\n",
       "      <td>3606.006838</td>\n",
       "      <td>0.504253</td>\n",
       "      <td>10.963558</td>\n",
       "      <td>909.000000</td>\n",
       "      <td>162.003707</td>\n",
       "      <td>1455.497165</td>\n",
       "      <td>26245.201029</td>\n",
       "      <td>3932.665994</td>\n",
       "      <td>0.583789</td>\n",
       "      <td>10.991451</td>\n",
       "      <td>909.000000</td>\n",
       "      <td>1.985728e+02</td>\n",
       "      <td>1455.294247</td>\n",
       "      <td>3.943116e+04</td>\n",
       "      <td>4255.046659</td>\n",
       "      <td>0.700079</td>\n",
       "      <td>15.519013</td>\n",
       "      <td>909.000000</td>\n",
       "      <td>2.025022e+02</td>\n",
       "      <td>1367.602454</td>\n",
       "      <td>3.214259e+05</td>\n",
       "      <td>5.995169e+04</td>\n",
       "      <td>0.889613</td>\n",
       "      <td>136.085041</td>\n",
       "      <td>909.000000</td>\n",
       "      <td>203.214791</td>\n",
       "      <td>1266.575659</td>\n",
       "      <td>4.181773e+05</td>\n",
       "      <td>1.349641e+05</td>\n",
       "      <td>1.526244</td>\n",
       "      <td>1.000000</td>\n",
       "    </tr>\n",
       "  </tbody>\n",
       "</table>\n",
       "</div>"
      ],
      "text/plain": [
       "       MI_dir_L5_weight  MI_dir_L5_mean  MI_dir_L5_variance  MI_dir_L3_weight  \\\n",
       "count      80788.000000    80788.000000        8.078800e+04      80788.000000   \n",
       "mean          26.767706       79.056769        1.308252e+02         42.418975   \n",
       "std           57.483840       20.355714        2.189445e+03         93.861649   \n",
       "min            1.000000       60.000000        0.000000e+00          1.000000   \n",
       "25%            1.000000       60.000000        0.000000e+00          1.000000   \n",
       "50%            1.000001       74.038276        3.640000e-12          1.000265   \n",
       "75%            4.058257      101.999791        1.138387e-01          4.359201   \n",
       "max          302.509857      886.166851        1.712281e+05        407.461021   \n",
       "\n",
       "       MI_dir_L3_mean  MI_dir_L3_variance  MI_dir_L1_weight  MI_dir_L1_mean  \\\n",
       "count    80788.000000        8.078800e+04      80788.000000    80788.000000   \n",
       "mean        79.059997        1.484816e+02        118.031455       79.283198   \n",
       "std         19.975528        2.308031e+03        272.846469       18.950420   \n",
       "min         60.000000        0.000000e+00          1.000000       60.000000   \n",
       "25%         60.000000        0.000000e+00          1.000000       60.000000   \n",
       "50%         74.055056        1.555000e-09          1.156945       74.120635   \n",
       "75%        101.987908        5.324455e-01          4.917204      101.357919   \n",
       "max        846.320306        1.728106e+05        963.941417      610.162051   \n",
       "\n",
       "       MI_dir_L1_variance  MI_dir_L0.1_weight  MI_dir_L0.1_mean  \\\n",
       "count        80788.000000        80788.000000      80788.000000   \n",
       "mean           185.489844          944.517516         79.861717   \n",
       "std           2271.759895         2299.610837         16.041492   \n",
       "min              0.000000            1.000000         60.000000   \n",
       "25%              0.000000            1.000000         60.000000   \n",
       "50%              0.080607            3.568522         79.424910   \n",
       "75%             22.402596            6.109747         95.102821   \n",
       "max         173077.043447         7964.172032        373.038376   \n",
       "\n",
       "       MI_dir_L0.1_variance  MI_dir_L0.01_weight  MI_dir_L0.01_mean  \\\n",
       "count          80788.000000         80788.000000       80788.000000   \n",
       "mean             260.118536          3196.672943          79.120971   \n",
       "std             1558.049056          8306.323865          14.811610   \n",
       "min                0.000000             1.000000          60.000000   \n",
       "25%                0.000000             1.000000          60.000000   \n",
       "50%              106.784637            29.560044          88.040878   \n",
       "75%              273.134240            32.612520          92.504146   \n",
       "max           133517.647587         41591.839916         360.000920   \n",
       "\n",
       "       MI_dir_L0.01_variance   H_L5_weight     H_L5_mean  H_L5_variance  \\\n",
       "count           80788.000000  80788.000000  80788.000000   8.078800e+04   \n",
       "mean              278.833433     26.767706     79.056769   1.308252e+02   \n",
       "std              1283.271864     57.483840     20.355714   2.189445e+03   \n",
       "min                 0.000000      1.000000     60.000000   0.000000e+00   \n",
       "25%                 0.000000      1.000000     60.000000   0.000000e+00   \n",
       "50%               256.019391      1.000001     74.038276   3.640000e-12   \n",
       "75%               293.961556      4.058257    101.999791   1.138387e-01   \n",
       "max            117801.394214    302.509857    886.166851   1.712281e+05   \n",
       "\n",
       "        H_L3_weight     H_L3_mean  H_L3_variance   H_L1_weight     H_L1_mean  \\\n",
       "count  80788.000000  80788.000000   8.078800e+04  80788.000000  80788.000000   \n",
       "mean      42.418975     79.059997   1.484816e+02    118.031455     79.283190   \n",
       "std       93.861649     19.975528   2.308031e+03    272.846469     18.950303   \n",
       "min        1.000000     60.000000   0.000000e+00      1.000000     60.000000   \n",
       "25%        1.000000     60.000000   0.000000e+00      1.000000     60.000000   \n",
       "50%        1.000265     74.055056   1.560000e-09      1.156945     74.120635   \n",
       "75%        4.359201    101.987908   5.324455e-01      4.917204    101.357919   \n",
       "max      407.461021    846.320306   1.728106e+05    963.941417    610.162051   \n",
       "\n",
       "       H_L1_variance  H_L0.1_weight   H_L0.1_mean  H_L0.1_variance  \\\n",
       "count   80788.000000   80788.000000  80788.000000     80788.000000   \n",
       "mean      185.489952     944.517555     79.861526       260.119752   \n",
       "std      2271.759888    2299.610820     16.038247      1558.048892   \n",
       "min         0.000000       1.000000     60.000000         0.000000   \n",
       "25%         0.000000       1.000000     60.000000         0.000000   \n",
       "50%         0.080818       3.568717     79.424910       106.784637   \n",
       "75%        22.402596       6.109747     95.102821       273.134240   \n",
       "max    173077.043447    7964.172032    373.038376    133517.647587   \n",
       "\n",
       "       H_L0.01_weight  H_L0.01_mean  H_L0.01_variance  HH_L5_weight  \\\n",
       "count    80788.000000  80788.000000      80788.000000  80788.000000   \n",
       "mean      3196.673120     79.120456        278.835376     23.753650   \n",
       "std       8306.323797     14.802121       1283.271512     57.141989   \n",
       "min          1.000000     60.000000          0.000000      1.000000   \n",
       "25%          1.000000     60.000000          0.000000      1.000000   \n",
       "50%         29.560044     88.040878        256.019391      1.000000   \n",
       "75%         32.612520     92.504146        293.961556      1.000000   \n",
       "max      41591.839916    349.390766     117801.394214    302.425730   \n",
       "\n",
       "         HH_L5_mean     HH_L5_std  HH_L5_magnitude  HH_L5_radius  \\\n",
       "count  80788.000000  8.078800e+04     80788.000000  8.078800e+04   \n",
       "mean      79.011361  1.009471e-01       101.015823  1.737598e+01   \n",
       "std       22.573336  1.479906e+00        40.629782  2.107694e+03   \n",
       "min       60.000000  0.000000e+00        60.000000  0.000000e+00   \n",
       "25%       60.000000  0.000000e+00        60.000000  0.000000e+00   \n",
       "50%       74.000000  0.000000e+00        95.268043  0.000000e+00   \n",
       "75%      102.000000  6.740000e-07       144.249783  7.332581e-12   \n",
       "max      909.000000  1.457139e+02      1455.497166  4.327120e+05   \n",
       "\n",
       "       HH_L5_covariance     HH_L5_pcc  HH_L3_weight    HH_L3_mean  \\\n",
       "count      80788.000000  80788.000000  80788.000000  80788.000000   \n",
       "mean           0.174976      0.000107     38.318276     79.010498   \n",
       "std           24.918756      0.007001     93.500558     22.548650   \n",
       "min        -1763.194348     -0.483815      1.000000     60.000000   \n",
       "25%            0.000000      0.000000      1.000000     60.000000   \n",
       "50%            0.000000      0.000000      1.000000     74.000000   \n",
       "75%            0.000000      0.000000      1.000004    102.000000   \n",
       "max         3591.896037      0.491561    407.141325    909.000000   \n",
       "\n",
       "          HH_L3_std  HH_L3_magnitude  HH_L3_radius  HH_L3_covariance  \\\n",
       "count  80788.000000     80788.000000  8.078800e+04      80788.000000   \n",
       "mean       0.161320       101.016195  1.925642e+01          0.243141   \n",
       "std        1.736485        40.617114  2.036463e+03         29.956724   \n",
       "min        0.000000        60.000000  0.000000e+00      -1816.625316   \n",
       "25%        0.000000        60.000000  0.000000e+00          0.000000   \n",
       "50%        0.000000        95.268043  0.000000e+00          0.000000   \n",
       "75%        0.000001       144.249783  1.320000e-10          0.000000   \n",
       "max      162.003707      1455.497165  4.190115e+05       3898.881801   \n",
       "\n",
       "          HH_L3_pcc  HH_L1_weight    HH_L1_mean     HH_L1_std  \\\n",
       "count  80788.000000  80788.000000  80788.000000  8.078800e+04   \n",
       "mean       0.000262    109.659327     79.081283  7.521676e-01   \n",
       "std        0.009418    272.556276     22.433695  3.776239e+00   \n",
       "min       -0.490352      1.000000     60.000000  0.000000e+00   \n",
       "25%        0.000000      1.000000     60.000000  0.000000e+00   \n",
       "50%        0.000000      1.000000     73.999992  9.536743e-07   \n",
       "75%        0.000000      1.017405    102.000000  6.301260e-03   \n",
       "max        0.570974    961.780955    909.000000  3.469616e+02   \n",
       "\n",
       "       HH_L1_magnitude  HH_L1_radius  HH_L1_covariance     HH_L1_pcc  \\\n",
       "count     80788.000000  8.078800e+04      8.078800e+04  80788.000000   \n",
       "mean        101.104884  3.786672e+01      4.992661e-01      0.002216   \n",
       "std          40.569235  2.158199e+03      4.714004e+01      0.021499   \n",
       "min          60.000000  0.000000e+00     -4.077541e+03     -0.496806   \n",
       "25%          60.000000  0.000000e+00    -4.700000e-145      0.000000   \n",
       "50%          95.268034  1.820000e-12      0.000000e+00      0.000000   \n",
       "75%         144.249783  6.290832e-04     3.600000e-110      0.000000   \n",
       "max        1455.294247  4.043915e+05      8.428814e+03      0.692923   \n",
       "\n",
       "       HH_L0.1_weight  HH_L0.1_mean   HH_L0.1_std  HH_L0.1_magnitude  \\\n",
       "count    80788.000000  80788.000000  8.078800e+04       80788.000000   \n",
       "mean       892.696067     79.541706  3.185704e+00         101.828143   \n",
       "std       2298.396632     21.726502  7.533070e+00          39.818694   \n",
       "min          1.000000     60.000000  0.000000e+00          60.000000   \n",
       "25%          1.000000     60.000000  0.000000e+00          60.000000   \n",
       "50%          1.071680     73.999374  9.536743e-07          95.267559   \n",
       "75%          1.912388    102.000000  1.614251e-01         144.249783   \n",
       "max       7944.986856    909.000000  3.304218e+02        1367.602454   \n",
       "\n",
       "       HH_L0.1_radius  HH_L0.1_covariance   HH_L0.1_pcc  HH_L0.01_weight  \\\n",
       "count    8.078800e+04        8.078800e+04  8.078800e+04     80788.000000   \n",
       "mean     1.482932e+02        8.622168e+00  1.929060e-02      2842.317708   \n",
       "std      3.503545e+03        2.359689e+02  9.484178e-02      8240.837654   \n",
       "min      0.000000e+00       -3.100541e+03 -6.756953e-01         1.000000   \n",
       "25%      0.000000e+00        0.000000e+00  0.000000e+00         1.000000   \n",
       "50%      1.820000e-12        0.000000e+00  0.000000e+00         4.219361   \n",
       "75%      2.642166e-02        2.320000e-29  6.160000e-18        11.499693   \n",
       "max      4.336672e+05        3.139770e+04  1.121369e+00     41461.883026   \n",
       "\n",
       "       HH_L0.01_mean  HH_L0.01_std  HH_L0.01_magnitude  HH_L0.01_radius  \\\n",
       "count   80788.000000  80788.000000        80788.000000     8.078800e+04   \n",
       "mean       79.116071      3.693175          101.490571     2.163220e+02   \n",
       "std        21.340935      8.359351           38.719765     5.644088e+03   \n",
       "min        60.000000      0.000000           60.000000     0.000000e+00   \n",
       "25%        60.000000      0.000000           60.000000     0.000000e+00   \n",
       "50%        74.000000      0.000001           99.628936     3.640000e-12   \n",
       "75%       102.000000      0.167158          144.249783     2.817178e-02   \n",
       "max       909.000000    300.446884         1256.913723     4.829986e+05   \n",
       "\n",
       "       HH_L0.01_covariance  HH_L0.01_pcc  HH_jit_L5_weight  HH_jit_L5_mean  \\\n",
       "count         8.078800e+04  8.078800e+04      80788.000000    8.078800e+04   \n",
       "mean          2.213409e+01  3.866902e-02         23.753650    4.971712e+08   \n",
       "std           5.008581e+02  1.039638e-01         57.141989    7.080770e+08   \n",
       "min          -2.182227e+03 -5.723675e-01          1.000000    1.051547e-03   \n",
       "25%           0.000000e+00  0.000000e+00          1.000000    1.035971e+01   \n",
       "50%           0.000000e+00  0.000000e+00          1.000000    3.902456e+01   \n",
       "75%           5.296049e-17  4.691770e-11          1.000000    1.505913e+09   \n",
       "max           6.827325e+04  1.053692e+00        302.425730    1.505914e+09   \n",
       "\n",
       "       HH_jit_L5_variance  HH_jit_L3_weight  HH_jit_L3_mean  \\\n",
       "count        8.078800e+04      80788.000000    8.078800e+04   \n",
       "mean         1.505731e+14         38.318276    4.972450e+08   \n",
       "std          8.036241e+15         93.500558    7.080422e+08   \n",
       "min          0.000000e+00          1.000000    1.252767e-03   \n",
       "25%          0.000000e+00          1.000000    1.618397e+01   \n",
       "50%          0.000000e+00          1.000000    3.902500e+01   \n",
       "75%          1.590000e-07          1.000004    1.505913e+09   \n",
       "max          5.660000e+17        407.141325    1.505914e+09   \n",
       "\n",
       "       HH_jit_L3_variance  HH_jit_L1_weight  HH_jit_L1_mean  \\\n",
       "count        8.078800e+04      80788.000000    8.078800e+04   \n",
       "mean         2.374706e+14        109.659327    4.996615e+08   \n",
       "std          8.998787e+15        272.556276    7.066471e+08   \n",
       "min          0.000000e+00          1.000000    1.547054e-03   \n",
       "25%          0.000000e+00          1.000000    2.434645e+01   \n",
       "50%          0.000000e+00          1.000000    3.902897e+01   \n",
       "75%          1.420094e-05          1.017405    1.505913e+09   \n",
       "max          5.670000e+17        961.780955    1.505914e+09   \n",
       "\n",
       "       HH_jit_L1_variance  HH_jit_L0.1_weight  HH_jit_L0.1_mean  \\\n",
       "count        8.078800e+04        80788.000000      8.078800e+04   \n",
       "mean         3.441160e+15          892.696067      5.121517e+08   \n",
       "std          2.824080e+16         2298.396632      7.033308e+08   \n",
       "min          0.000000e+00            1.000000      9.398519e-01   \n",
       "25%          0.000000e+00            1.000000      3.901247e+01   \n",
       "50%          2.270000e-13            1.071680      1.087609e+02   \n",
       "75%          5.251324e-04            1.912388      1.505913e+09   \n",
       "max          5.670000e+17         7944.986856      1.505914e+09   \n",
       "\n",
       "       HH_jit_L0.1_variance  HH_jit_L0.01_weight  HH_jit_L0.01_mean  \\\n",
       "count          8.078800e+04         80788.000000       8.078800e+04   \n",
       "mean           1.428853e+16          2842.317708       5.158477e+08   \n",
       "std            8.252573e+16          8240.837654       7.029201e+08   \n",
       "min            0.000000e+00             1.000000       9.310477e+00   \n",
       "25%            0.000000e+00             1.000000       3.901754e+01   \n",
       "50%            6.280000e-05             4.219361       2.119550e+04   \n",
       "75%            8.944378e+01            11.499693       1.505913e+09   \n",
       "max            5.670000e+17         41461.883026       1.505914e+09   \n",
       "\n",
       "       HH_jit_L0.01_variance  HpHp_L5_weight  HpHp_L5_mean   HpHp_L5_std  \\\n",
       "count           8.078800e+04    80788.000000  80788.000000  80788.000000   \n",
       "mean            1.663263e+16        1.009592     79.016563      0.022624   \n",
       "std             9.091405e+16        0.115026     22.602501      0.920664   \n",
       "min             0.000000e+00        1.000000     60.000000      0.000000   \n",
       "25%             0.000000e+00        1.000000     60.000000      0.000000   \n",
       "50%             1.172860e-01        1.000000     74.000000      0.000000   \n",
       "75%             1.192029e+02        1.000000    102.000000      0.000000   \n",
       "max             5.670000e+17       10.939344    909.000000    106.826408   \n",
       "\n",
       "       HpHp_L5_magnitude  HpHp_L5_radius  HpHp_L5_covariance   HpHp_L5_pcc  \\\n",
       "count       80788.000000    80788.000000        80788.000000  80788.000000   \n",
       "mean           99.314889        2.214432            0.169753      0.000017   \n",
       "std            41.981914      140.665739           24.962600      0.004072   \n",
       "min            60.000000        0.000000        -1766.226430     -0.456641   \n",
       "25%            60.000000        0.000000            0.000000      0.000000   \n",
       "50%            84.852814        0.000000            0.000000      0.000000   \n",
       "75%           144.249783        0.000000            0.000000      0.000000   \n",
       "max          1455.497166    11622.460570         3606.006838      0.504253   \n",
       "\n",
       "       HpHp_L3_weight  HpHp_L3_mean   HpHp_L3_std  HpHp_L3_magnitude  \\\n",
       "count    80788.000000  80788.000000  80788.000000       80788.000000   \n",
       "mean         1.010668     79.015763      0.024743          99.313620   \n",
       "std          0.122212     22.591169      1.024816          41.968020   \n",
       "min          1.000000     60.000000      0.000000          60.000000   \n",
       "25%          1.000000     60.000000      0.000000          60.000000   \n",
       "50%          1.000000     74.000000      0.000000          84.852814   \n",
       "75%          1.000000    102.000000      0.000000         144.249783   \n",
       "max         10.963558    909.000000    162.003707        1455.497165   \n",
       "\n",
       "       HpHp_L3_radius  HpHp_L3_covariance   HpHp_L3_pcc  HpHp_L1_weight  \\\n",
       "count    80788.000000        80788.000000  80788.000000    80788.000000   \n",
       "mean         2.697322            0.216838      0.000031        1.015790   \n",
       "std        170.967145           28.379052      0.004473        0.143489   \n",
       "min          0.000000        -1592.623242     -0.265261        1.000000   \n",
       "25%          0.000000            0.000000      0.000000        1.000000   \n",
       "50%          0.000000            0.000000      0.000000        1.000000   \n",
       "75%          0.000000            0.000000      0.000000        1.000000   \n",
       "max      26245.201029         3932.665994      0.583789       10.991451   \n",
       "\n",
       "       HpHp_L1_mean   HpHp_L1_std  HpHp_L1_magnitude  HpHp_L1_radius  \\\n",
       "count  80788.000000  8.078800e+04       80788.000000    8.078800e+04   \n",
       "mean      79.015893  2.877133e-02          99.305589    3.497026e+00   \n",
       "std       22.577250  1.162153e+00          41.940351    2.160488e+02   \n",
       "min       60.000000  0.000000e+00          60.000000    0.000000e+00   \n",
       "25%       60.000000  0.000000e+00          60.000000    0.000000e+00   \n",
       "50%       74.000000  0.000000e+00          84.852814    0.000000e+00   \n",
       "75%      102.000000  6.740000e-07         144.249783    1.820000e-12   \n",
       "max      909.000000  1.985728e+02        1455.294247    3.943116e+04   \n",
       "\n",
       "       HpHp_L1_covariance   HpHp_L1_pcc  HpHp_L0.1_weight  HpHp_L0.1_mean  \\\n",
       "count        80788.000000  80788.000000      80788.000000    80788.000000   \n",
       "mean             0.315501      0.000063          1.123992       79.025931   \n",
       "std             33.539325      0.005812          0.488742       22.586756   \n",
       "min          -1085.807486     -0.198731          1.000000       60.000000   \n",
       "25%              0.000000      0.000000          1.000000       60.000000   \n",
       "50%              0.000000      0.000000          1.071124       74.000000   \n",
       "75%              0.000000      0.000000          1.071872      102.000000   \n",
       "max           4255.046659      0.700079         15.519013      909.000000   \n",
       "\n",
       "       HpHp_L0.1_std  HpHp_L0.1_magnitude  HpHp_L0.1_radius  \\\n",
       "count   8.078800e+04         80788.000000      8.078800e+04   \n",
       "mean    4.992369e-02            99.282868      2.693334e+01   \n",
       "std     2.145108e+00            41.377497      2.099612e+03   \n",
       "min     0.000000e+00            60.000000      0.000000e+00   \n",
       "25%     0.000000e+00            60.000000      0.000000e+00   \n",
       "50%     0.000000e+00            84.852814      0.000000e+00   \n",
       "75%     9.536743e-07           144.249783      1.820000e-12   \n",
       "max     2.025022e+02          1367.602454      3.214259e+05   \n",
       "\n",
       "       HpHp_L0.1_covariance  HpHp_L0.1_pcc  HpHp_L0.01_weight  \\\n",
       "count          8.078800e+04   80788.000000       80788.000000   \n",
       "mean           3.224627e+00       0.000159           3.104447   \n",
       "std            2.904219e+02       0.008912           3.470299   \n",
       "min           -2.286823e+03      -0.142042           1.000000   \n",
       "25%            0.000000e+00       0.000000           1.000000   \n",
       "50%            0.000000e+00       0.000000           2.898599   \n",
       "75%           9.130000e-103       0.000000           4.220219   \n",
       "max            5.995169e+04       0.889613         136.085041   \n",
       "\n",
       "       HpHp_L0.01_mean  HpHp_L0.01_std  HpHp_L0.01_magnitude  \\\n",
       "count     80788.000000    80788.000000          80788.000000   \n",
       "mean         79.024912        0.066933             99.267860   \n",
       "std          22.592503        2.381068             41.048062   \n",
       "min          60.000000        0.000000             60.000000   \n",
       "25%          60.000000        0.000000             60.000000   \n",
       "50%          74.000000        0.000000             84.852814   \n",
       "75%         102.000000        0.000001            144.249783   \n",
       "max         909.000000      203.214791           1266.575659   \n",
       "\n",
       "       HpHp_L0.01_radius  HpHp_L0.01_covariance  HpHp_L0.01_pcc        Botnet  \n",
       "count       8.078800e+04           8.078800e+04    80788.000000  80788.000000  \n",
       "mean        4.039521e+01           8.159997e+00        0.000528      0.000025  \n",
       "std         3.202869e+03           7.446038e+02        0.015492      1.000006  \n",
       "min         0.000000e+00          -1.017176e+03       -0.135352     -1.000000  \n",
       "25%         0.000000e+00           0.000000e+00        0.000000     -1.000000  \n",
       "50%         6.430000e-13           0.000000e+00        0.000000      1.000000  \n",
       "75%         3.640000e-12           1.092500e-31        0.000000      1.000000  \n",
       "max         4.181773e+05           1.349641e+05        1.526244      1.000000  "
      ]
     },
     "execution_count": 5,
     "metadata": {},
     "output_type": "execute_result"
    }
   ],
   "source": [
    "pd.set_option('display.max_columns', None)\n",
    "data.describe()"
   ]
  },
  {
   "cell_type": "markdown",
   "metadata": {},
   "source": [
    "As we are planning to try ensembles of trees first, no data normalization is required.\n",
    "\n",
    "Check if there any null values:"
   ]
  },
  {
   "cell_type": "code",
   "execution_count": 6,
   "metadata": {},
   "outputs": [
    {
     "data": {
      "text/plain": [
       "False"
      ]
     },
     "execution_count": 6,
     "metadata": {},
     "output_type": "execute_result"
    }
   ],
   "source": [
    "data.isnull().values.any()"
   ]
  },
  {
   "cell_type": "markdown",
   "metadata": {},
   "source": [
    "No NaN values, no categorized data, and a lot of already extracted features. Very nice dataset."
   ]
  },
  {
   "cell_type": "markdown",
   "metadata": {},
   "source": [
    "Correlation of target:"
   ]
  },
  {
   "cell_type": "code",
   "execution_count": 7,
   "metadata": {},
   "outputs": [
    {
     "data": {
      "image/png": "[encoded data removed]",
      "text/plain": [
       "<matplotlib.figure.Figure at 0x27485d123c8>"
      ]
     },
     "metadata": {},
     "output_type": "display_data"
    }
   ],
   "source": [
    "x = data.corr()['Botnet'].drop(['Botnet']).abs().sort_values(ascending=True)\n",
    "fig = plt.figure(figsize=(20, 16))\n",
    "ax = fig.add_subplot(111)\n",
    "x.plot(kind='bar', color='blue', ax=ax, width=1)\n",
    "plt.show()"
   ]
  },
  {
   "cell_type": "markdown",
   "metadata": {},
   "source": [
    "We see a srong correlation between \"Botnet\"(target) and \"H_L0.1_mean\", \"H_L0.01_mean, \"M_dir_L0.01_mean\""
   ]
  },
  {
   "cell_type": "markdown",
   "metadata": {},
   "source": [
    "We are going to use RandomForest and Isolation Forest, because Isolation Forest is often used for detecting anomalies such as malicious traffic, and Randon Forest is in general very flexible and well-performing estimator"
   ]
  },
  {
   "cell_type": "markdown",
   "metadata": {},
   "source": [
    "We will check feature importances for these two algorithms. "
   ]
  },
  {
   "cell_type": "markdown",
   "metadata": {},
   "source": [
    "First, for random forest. We have a large dataset, so we will check on smaller dataset."
   ]
  },
  {
   "cell_type": "code",
   "execution_count": 8,
   "metadata": {},
   "outputs": [],
   "source": [
    "y = data['Botnet']\n",
    "X = data.drop(['Botnet'], axis=1)"
   ]
  },
  {
   "cell_type": "code",
   "execution_count": 9,
   "metadata": {},
   "outputs": [],
   "source": [
    "clf = RandomForestClassifier()\n",
    "\n",
    "clf.fit(X, y)\n",
    "feature_importances = pd.DataFrame(clf.feature_importances_,\n",
    "                                   index = X.columns,\n",
    "                                    columns=['importance']).sort_values('importance', ascending=True)"
   ]
  },
  {
   "cell_type": "markdown",
   "metadata": {},
   "source": [
    "A bar plot of the most important features"
   ]
  },
  {
   "cell_type": "code",
   "execution_count": 10,
   "metadata": {},
   "outputs": [
    {
     "data": {
      "image/png": "[encoded data removed]",
      "text/plain": [
       "<matplotlib.figure.Figure at 0x2748a682c50>"
      ]
     },
     "metadata": {},
     "output_type": "display_data"
    }
   ],
   "source": [
    "fig = plt.figure(figsize=(20, 16))\n",
    "ax = fig.add_subplot(111)\n",
    "feature_importances.plot(kind='bar', color='red', ax=ax, width=1)\n",
    "plt.show()"
   ]
  },
  {
   "cell_type": "code",
   "execution_count": 11,
   "metadata": {},
   "outputs": [
    {
     "name": "stdout",
     "output_type": "stream",
     "text": [
      "Accuracy of classification is 0.99975 +- 0.00010\n"
     ]
    }
   ],
   "source": [
    "from sklearn.pipeline import make_pipeline\n",
    "pipe = make_pipeline(SelectKBest(f_classif, 11), \n",
    "                     clf)\n",
    "\n",
    "scores = cross_val_score(pipe, X, y, scoring='f1_macro', cv=5)\n",
    "print('Accuracy of classification is {:0.5f} +- {:0.5f}'.format(np.mean(scores), np.std(scores)))"
   ]
  },
  {
   "cell_type": "markdown",
   "metadata": {},
   "source": [
    "We got the highest score with 11 features. (We checked 7, 8, 9, 10, 12, 13, 14)"
   ]
  },
  {
   "cell_type": "markdown",
   "metadata": {},
   "source": [
    "Now, for isolation forest"
   ]
  },
  {
   "cell_type": "code",
   "execution_count": 12,
   "metadata": {},
   "outputs": [
    {
     "name": "stdout",
     "output_type": "stream",
     "text": [
      "(80788, 115)\n",
      "['MI_dir_L0.1_mean', 'MI_dir_L0.01_mean', 'H_L0.1_mean', 'H_L0.01_mean', 'HH_L0.1_magnitude', 'HH_L0.01_magnitude', 'HpHp_L5_magnitude', 'HpHp_L3_magnitude', 'HpHp_L1_magnitude', 'HpHp_L0.1_magnitude', 'HpHp_L0.01_magnitude']\n",
      "-----------------------------------------------------------\n",
      "0.4751447339860893\n"
     ]
    }
   ],
   "source": [
    "from sklearn.feature_selection import SelectKBest, f_classif, mutual_info_classif\n",
    "\n",
    "clf = IsolationForest()\n",
    "selector = SelectKBest(f_classif, 11)\n",
    "selector.fit(X, y)\n",
    "# SelectKBest just selects the specified number of features with the highest scores \n",
    "print(X.shape)\n",
    "data_reduced = selector.transform(X)\n",
    "\n",
    "feature_names = list(X.columns.values)\n",
    "mask = selector.get_support() #list of booleans\n",
    "new_features = [] # The list of K best features\n",
    "\n",
    "for bool, feature in zip(mask, feature_names):\n",
    "    if bool:\n",
    "        new_features.append(feature)\n",
    "        \n",
    "print(new_features)\n",
    "print(\"-----------------------------------------------------------\")\n",
    "print(np.mean(cross_val_score(clf, data_reduced, y, cv=5, scoring='accuracy')))"
   ]
  },
  {
   "cell_type": "markdown",
   "metadata": {},
   "source": [
    "I got the highest score with 11 features.Also I tried amount 7, 9, 10, 12, 13, 14, 20 features."
   ]
  },
  {
   "cell_type": "markdown",
   "metadata": {},
   "source": [
    "We got results: **from correlation:** \"H_L0.1_mean\", \"H_L0.01_mean, \"M_dir_L0.01_mean\";\n",
    "\n",
    "\n",
    "**from RF:** MI_dir_L0.1_mean, MI_dir_L0.01_mean, HpHp_L0.01_weight, H_L0.01_mean, HH_L0.01_magnitude, MI_dir_L0.1_mean, HH_L0.01_mean, HH_jit_L0.1_mean, HH_L0.1_mean, HpHp_L0.1_magnitude, HpHp_L1_magnitude, H_L0.01_weight.    \n",
    "\n",
    "\n",
    "**from IF:** 'MI_dir_L1_mean', 'MI_dir_L0.1_mean', 'MI_dir_L0.01_mean', 'H_L1_mean', 'H_L0.1_mean', 'H_L0.01_mean', 'HH_jit_L5_mean', 'HH_jit_L3_mean', 'HH_jit_L1_mean', 'HH_jit_L0.1_mean', 'HH_jit_L0.01_mean'."
   ]
  },
  {
   "cell_type": "code",
   "execution_count": 13,
   "metadata": {},
   "outputs": [],
   "source": [
    "def drop_columns_rf(data):\n",
    "    return pd.concat(([data['MI_dir_L0.1_mean'], \n",
    "                    data['MI_dir_L0.01_mean'], \n",
    "                    data['H_L0.01_mean'], \n",
    "                    data['HH_L0.1_magnitude'], \n",
    "                    data['HH_L0.01_magnitude'], \n",
    "                    data['HH_L0.01_mean'], \n",
    "                    data['HpHp_L0.01_mean'], \n",
    "                    data['HpHp_L1_magnitude'], \n",
    "                    data['HpHp_L1_mean'], \n",
    "                    data['H_L0.1_mean']]), axis=1)"
   ]
  },
  {
   "cell_type": "code",
   "execution_count": 14,
   "metadata": {},
   "outputs": [],
   "source": [
    "def drop_columns_if(data):\n",
    "    return pd.concat(([data['MI_dir_L0.1_mean'], \n",
    "                    data['MI_dir_L1_mean'], \n",
    "                    data['MI_dir_L0.01_mean'],\n",
    "                    data['H_L1_mean'], \n",
    "                    data['H_L0.1_mean'], \n",
    "                    data['H_L0.01_mean'], \n",
    "                    data['HH_jit_L3_mean'], \n",
    "                    data['HH_jit_L1_mean'], \n",
    "                    data['HH_jit_L0.1_mean'], \n",
    "                    data['HH_jit_L0.01_mean']]), axis=1)"
   ]
  },
  {
   "cell_type": "markdown",
   "metadata": {},
   "source": [
    "We see, that RF is better than IF. Let us look for a good set of hyperparameters."
   ]
  },
  {
   "cell_type": "code",
   "execution_count": 15,
   "metadata": {},
   "outputs": [
    {
     "data": {
      "text/plain": [
       "(80788, 10)"
      ]
     },
     "execution_count": 15,
     "metadata": {},
     "output_type": "execute_result"
    }
   ],
   "source": [
    "y = data['Botnet']\n",
    "X = drop_columns_rf(data)\n",
    "X.shape"
   ]
  },
  {
   "cell_type": "code",
   "execution_count": 16,
   "metadata": {},
   "outputs": [
    {
     "data": {
      "text/html": [
       "<div>\n",
       "<style scoped>\n",
       "    .dataframe tbody tr th:only-of-type {\n",
       "        vertical-align: middle;\n",
       "    }\n",
       "\n",
       "    .dataframe tbody tr th {\n",
       "        vertical-align: top;\n",
       "    }\n",
       "\n",
       "    .dataframe thead th {\n",
       "        text-align: right;\n",
       "    }\n",
       "</style>\n",
       "<table border=\"1\" class=\"dataframe\">\n",
       "  <thead>\n",
       "    <tr style=\"text-align: right;\">\n",
       "      <th></th>\n",
       "      <th>MI_dir_L0.1_mean</th>\n",
       "      <th>MI_dir_L0.01_mean</th>\n",
       "      <th>H_L0.01_mean</th>\n",
       "      <th>HH_L0.1_magnitude</th>\n",
       "      <th>HH_L0.01_magnitude</th>\n",
       "      <th>HH_L0.01_mean</th>\n",
       "      <th>HpHp_L0.01_mean</th>\n",
       "      <th>HpHp_L1_magnitude</th>\n",
       "      <th>HpHp_L1_mean</th>\n",
       "      <th>H_L0.1_mean</th>\n",
       "    </tr>\n",
       "  </thead>\n",
       "  <tbody>\n",
       "    <tr>\n",
       "      <th>6360</th>\n",
       "      <td>93.985056</td>\n",
       "      <td>92.257160</td>\n",
       "      <td>92.257160</td>\n",
       "      <td>106.973020</td>\n",
       "      <td>107.035973</td>\n",
       "      <td>76.639559</td>\n",
       "      <td>98.000000</td>\n",
       "      <td>138.592929</td>\n",
       "      <td>98.000000</td>\n",
       "      <td>93.985056</td>\n",
       "    </tr>\n",
       "    <tr>\n",
       "      <th>21906</th>\n",
       "      <td>81.649733</td>\n",
       "      <td>92.478935</td>\n",
       "      <td>92.478935</td>\n",
       "      <td>119.396227</td>\n",
       "      <td>111.381387</td>\n",
       "      <td>77.849171</td>\n",
       "      <td>60.000000</td>\n",
       "      <td>84.852814</td>\n",
       "      <td>60.000000</td>\n",
       "      <td>81.649733</td>\n",
       "    </tr>\n",
       "    <tr>\n",
       "      <th>71236</th>\n",
       "      <td>60.000000</td>\n",
       "      <td>60.000000</td>\n",
       "      <td>60.000000</td>\n",
       "      <td>60.000000</td>\n",
       "      <td>60.000000</td>\n",
       "      <td>60.000000</td>\n",
       "      <td>60.000000</td>\n",
       "      <td>60.000000</td>\n",
       "      <td>60.000000</td>\n",
       "      <td>60.000000</td>\n",
       "    </tr>\n",
       "    <tr>\n",
       "      <th>58744</th>\n",
       "      <td>60.000000</td>\n",
       "      <td>60.000000</td>\n",
       "      <td>60.000000</td>\n",
       "      <td>60.000000</td>\n",
       "      <td>60.000000</td>\n",
       "      <td>60.000000</td>\n",
       "      <td>60.000000</td>\n",
       "      <td>60.000000</td>\n",
       "      <td>60.000000</td>\n",
       "      <td>60.000000</td>\n",
       "    </tr>\n",
       "    <tr>\n",
       "      <th>52390</th>\n",
       "      <td>76.140545</td>\n",
       "      <td>76.634835</td>\n",
       "      <td>76.634835</td>\n",
       "      <td>214.865490</td>\n",
       "      <td>755.021686</td>\n",
       "      <td>129.384260</td>\n",
       "      <td>69.996587</td>\n",
       "      <td>101.629004</td>\n",
       "      <td>69.659561</td>\n",
       "      <td>76.140545</td>\n",
       "    </tr>\n",
       "  </tbody>\n",
       "</table>\n",
       "</div>"
      ],
      "text/plain": [
       "       MI_dir_L0.1_mean  MI_dir_L0.01_mean  H_L0.01_mean  HH_L0.1_magnitude  \\\n",
       "6360          93.985056          92.257160     92.257160         106.973020   \n",
       "21906         81.649733          92.478935     92.478935         119.396227   \n",
       "71236         60.000000          60.000000     60.000000          60.000000   \n",
       "58744         60.000000          60.000000     60.000000          60.000000   \n",
       "52390         76.140545          76.634835     76.634835         214.865490   \n",
       "\n",
       "       HH_L0.01_magnitude  HH_L0.01_mean  HpHp_L0.01_mean  HpHp_L1_magnitude  \\\n",
       "6360           107.035973      76.639559        98.000000         138.592929   \n",
       "21906          111.381387      77.849171        60.000000          84.852814   \n",
       "71236           60.000000      60.000000        60.000000          60.000000   \n",
       "58744           60.000000      60.000000        60.000000          60.000000   \n",
       "52390          755.021686     129.384260        69.996587         101.629004   \n",
       "\n",
       "       HpHp_L1_mean  H_L0.1_mean  \n",
       "6360      98.000000    93.985056  \n",
       "21906     60.000000    81.649733  \n",
       "71236     60.000000    60.000000  \n",
       "58744     60.000000    60.000000  \n",
       "52390     69.659561    76.140545  "
      ]
     },
     "execution_count": 16,
     "metadata": {},
     "output_type": "execute_result"
    }
   ],
   "source": [
    "X.head(5)"
   ]
  },
  {
   "cell_type": "code",
   "execution_count": 17,
   "metadata": {},
   "outputs": [
    {
     "data": {
      "text/plain": [
       "(60591, 10)"
      ]
     },
     "execution_count": 17,
     "metadata": {},
     "output_type": "execute_result"
    }
   ],
   "source": [
    "X_train, X_test, y_train, y_test = train_test_split(X, y, test_size=0.25, random_state=0)\n",
    "X_train.shape"
   ]
  },
  {
   "cell_type": "code",
   "execution_count": 18,
   "metadata": {},
   "outputs": [
    {
     "name": "stdout",
     "output_type": "stream",
     "text": [
      "Fitting 5 folds for each of 8 candidates, totalling 40 fits\n"
     ]
    },
    {
     "name": "stderr",
     "output_type": "stream",
     "text": [
      "[Parallel(n_jobs=-1)]: Done  40 out of  40 | elapsed:   44.0s finished\n"
     ]
    },
    {
     "name": "stdout",
     "output_type": "stream",
     "text": [
      "Accuracy (random forest auto): 0.9997194302784241 with params {'min_samples_leaf': 1, 'min_samples_split': 2, 'n_estimators': 50}\n"
     ]
    }
   ],
   "source": [
    "from sklearn.model_selection import GridSearchCV\n",
    "\n",
    "clf = RandomForestClassifier(random_state=0)\n",
    "\n",
    "clf_params = [{ \n",
    "    \"n_estimators\": [2, 10, 50, 100],\n",
    "    \"min_samples_split\": [2],\n",
    "    \"min_samples_leaf\": [1, 2]\n",
    "    \n",
    "}]\n",
    "\n",
    "clf_grid = GridSearchCV(clf, clf_params, cv=5, refit=True, verbose=1, n_jobs=-1)\n",
    "clf_grid.fit(X_train, y_train)\n",
    "clf_best = clf_grid.best_estimator_\n",
    "print(\"Accuracy (random forest auto): {} with params {}\"\n",
    "      .format(clf_grid.best_score_, clf_grid.best_params_))"
   ]
  },
  {
   "cell_type": "markdown",
   "metadata": {},
   "source": [
    "[backup]Accuracy (random forest auto): 0.9998349589873083 with params {'min_samples_leaf': 1, 'min_samples_split': 2, 'n_estimators': 50} <- grid search above sometimes outputs different params. We stuck with these."
   ]
  },
  {
   "cell_type": "code",
   "execution_count": 19,
   "metadata": {},
   "outputs": [
    {
     "name": "stdout",
     "output_type": "stream",
     "text": [
      "RF score: 1.000 ± 0.000\n"
     ]
    }
   ],
   "source": [
    "clf_rfc = RandomForestClassifier(n_estimators=50,\n",
    " min_samples_split=2,\n",
    " min_samples_leaf=1)\n",
    "scores = cross_val_score(clf_rfc, X_train, y_train, scoring='accuracy', cv=5)\n",
    "print('RF score: {0:.3f} ± {1:.3f}'.format(scores.mean(), scores.std()) )"
   ]
  },
  {
   "cell_type": "code",
   "execution_count": 20,
   "metadata": {},
   "outputs": [
    {
     "name": "stdout",
     "output_type": "stream",
     "text": [
      "accuracy:  0.9998514630885775\n",
      "f1 macro:  0.9998514629705981\n",
      "f1 micro:  0.9998514630885775\n",
      "f1 weighted:  0.9998514630820231\n",
      "precision:  0.9998021369212505\n",
      "recall:  0.9999010586722074\n"
     ]
    }
   ],
   "source": [
    "clf_rfc.fit(X_train, y_train)\n",
    "y_pred = clf_rfc.predict(X_test)\n",
    "print(\"accuracy: \", accuracy_score(y_test, y_pred))\n",
    "print(\"f1 macro: \", f1_score(y_test, y_pred, average='macro'))\n",
    "print(\"f1 micro: \", f1_score(y_test, y_pred, average='micro')) \n",
    "print(\"f1 weighted: \", f1_score(y_test, y_pred, average='weighted')) \n",
    "print(\"precision: \", precision_score(y_test, y_pred))\n",
    "print(\"recall: \", recall_score(y_test, y_pred))"
   ]
  },
  {
   "cell_type": "markdown",
   "metadata": {},
   "source": [
    "How does IF work here?"
   ]
  },
  {
   "cell_type": "markdown",
   "metadata": {},
   "source": [
    "First, look for hyperparameters."
   ]
  },
  {
   "cell_type": "code",
   "execution_count": 21,
   "metadata": {},
   "outputs": [
    {
     "data": {
      "text/plain": [
       "'\\nclf_params = [{ \\n    \"n_estimators\": [100, 200, 300, 400, 500],\\n    \"max_samples\": [50, 100, 200, 256, 300, 400, 500],\\n    \"contamination\": [0.1, 0.2, 0.3, 0.4, 0.5], \\n    \"random_state\": [0]\\n    \\n}]\\n\\n\\nclf_grid = GridSearchCV(clf, clf_params, cv=5, scoring=\\'accuracy\\', refit=True, verbose=1, n_jobs=-1)\\nclf_grid.fit(X_train, y_train)\\nclf_best = clf_grid.best_estimator_\\nprint(\"Accuracy (isolation forest auto): {} with params {}\"\\n      .format(clf_grid.best_score_, clf_grid.best_params_))\\n'"
      ]
     },
     "execution_count": 21,
     "metadata": {},
     "output_type": "execute_result"
    }
   ],
   "source": [
    "clf = IsolationForest()\n",
    "\n",
    "#We have already had this grid search done, it took over 150 min. We had to re-run the notebook,\n",
    "#so this is commented out for now and the best params are used in the next cell.\n",
    "'''\n",
    "clf_params = [{ \n",
    "    \"n_estimators\": [100, 200, 300, 400, 500],\n",
    "    \"max_samples\": [50, 100, 200, 256, 300, 400, 500],\n",
    "    \"contamination\": [0.1, 0.2, 0.3, 0.4, 0.5], \n",
    "    \"random_state\": [0]\n",
    "    \n",
    "}]\n",
    "\n",
    "\n",
    "clf_grid = GridSearchCV(clf, clf_params, cv=5, scoring='accuracy', refit=True, verbose=1, n_jobs=-1)\n",
    "clf_grid.fit(X_train, y_train)\n",
    "clf_best = clf_grid.best_estimator_\n",
    "print(\"Accuracy (isolation forest auto): {} with params {}\"\n",
    "      .format(clf_grid.best_score_, clf_grid.best_params_))\n",
    "'''"
   ]
  },
  {
   "cell_type": "markdown",
   "metadata": {},
   "source": [
    "[backup] Accuracy (isolation forest auto): 0.495411935569052 with params {'contamination': 0.1, 'max_samples': 50, 'n_estimators': 300, 'random_state': 0}"
   ]
  },
  {
   "cell_type": "code",
   "execution_count": 22,
   "metadata": {},
   "outputs": [
    {
     "name": "stdout",
     "output_type": "stream",
     "text": [
      "IF score: 0.471 ± 0.023\n"
     ]
    }
   ],
   "source": [
    "clf_ifc = IsolationForest(n_estimators=300, contamination=0.1, max_samples=50)\n",
    "scores = cross_val_score(clf_ifc, X_train, y_train, scoring='accuracy', cv=5)\n",
    "print('IF score: {0:.3f} ± {1:.3f}'.format(scores.mean(), scores.std()) )"
   ]
  },
  {
   "cell_type": "code",
   "execution_count": 23,
   "metadata": {},
   "outputs": [
    {
     "name": "stdout",
     "output_type": "stream",
     "text": [
      "Accuracy of prediction is 0.44803683715403275\n"
     ]
    }
   ],
   "source": [
    "clf_ifc.fit(X_train, y_train)\n",
    "y_pred = clf_ifc.predict(X_test)\n",
    "print('Accuracy of prediction is {}'.format(accuracy_score(y_test, y_pred)))"
   ]
  },
  {
   "cell_type": "code",
   "execution_count": 24,
   "metadata": {},
   "outputs": [
    {
     "name": "stdout",
     "output_type": "stream",
     "text": [
      "[[   -1  2090]\n",
      " [    1 18107]]\n"
     ]
    }
   ],
   "source": [
    "un, counts = np.unique(y_pred, return_counts=True)\n",
    "print(np.asarray((un, counts)).T)"
   ]
  },
  {
   "cell_type": "code",
   "execution_count": 25,
   "metadata": {},
   "outputs": [
    {
     "name": "stdout",
     "output_type": "stream",
     "text": [
      "[[   -1 10090]\n",
      " [    1 10107]]\n"
     ]
    }
   ],
   "source": [
    "un, counts = np.unique(y_test, return_counts=True)\n",
    "print(np.asarray((un, counts)).T)"
   ]
  },
  {
   "cell_type": "markdown",
   "metadata": {},
   "source": [
    "Let us check our model on imbalanced dataset."
   ]
  },
  {
   "cell_type": "code",
   "execution_count": 26,
   "metadata": {},
   "outputs": [
    {
     "name": "stdout",
     "output_type": "stream",
     "text": [
      "size of benign : 13111\n",
      "full size of BASHLITE : 310630\n",
      "squished size of BASHLITE : 1309\n",
      "full dataframe size : 14420\n"
     ]
    }
   ],
   "source": [
    "# upload new data from the other device\n",
    "inbal_data = read_device_data('.\\\\data\\\\thermostat\\\\',  BASHLITE_only=True, equalize_classes=2, botnet_size=0.1)"
   ]
  },
  {
   "cell_type": "code",
   "execution_count": 27,
   "metadata": {},
   "outputs": [],
   "source": [
    "y_inbal = inbal_data['Botnet']\n",
    "X_inbal = drop_columns_rf(inbal_data)\n",
    "X_train, X_test, y_train, y_test = train_test_split(X_inbal, y_inbal, test_size=0.25, random_state=0)"
   ]
  },
  {
   "cell_type": "markdown",
   "metadata": {},
   "source": [
    "First how about an already trained RFC?"
   ]
  },
  {
   "cell_type": "code",
   "execution_count": 28,
   "metadata": {},
   "outputs": [
    {
     "name": "stdout",
     "output_type": "stream",
     "text": [
      "Accuracy of prediction is 0.28502080443828015\n",
      "f1_score_macro of prediction is 0.2772837627371334\n",
      "f1_score_micro of prediction is 0.28502080443828015\n",
      "f1_score_weighted of prediction is 0.3384852145849442\n"
     ]
    }
   ],
   "source": [
    "y_pred = clf_rfc.predict(X_inbal)\n",
    "print('Accuracy of prediction is {}'.format(accuracy_score(y_inbal, y_pred)))\n",
    "print('f1_score_macro of prediction is {}'.format(f1_score(y_inbal, y_pred, average='macro')))\n",
    "print('f1_score_micro of prediction is {}'.format(f1_score(y_inbal, y_pred, average='micro')))\n",
    "print('f1_score_weighted of prediction is {}'.format(f1_score(y_inbal, y_pred, average='weighted')))"
   ]
  },
  {
   "cell_type": "markdown",
   "metadata": {},
   "source": [
    "Much better, but still lower that we would like it to be.\n",
    "\n",
    "Now, in theory, isolation forest should work better on imbalanced data, however ours was trained on balanced dataset so it wont:"
   ]
  },
  {
   "cell_type": "code",
   "execution_count": 29,
   "metadata": {},
   "outputs": [
    {
     "name": "stdout",
     "output_type": "stream",
     "text": [
      "Accuracy of prediction is 0.632871012482663\n",
      "f1_score_macro of prediction is 0.3977460686372196\n",
      "f1_score_micro of prediction is 0.632871012482663\n",
      "f1_score_weighted of prediction is 0.7057310394767227\n"
     ]
    }
   ],
   "source": [
    "y_pred = clf_ifc.predict(X_inbal)\n",
    "print('Accuracy of prediction is {}'.format(accuracy_score(y_inbal, y_pred)))\n",
    "print('f1_score_macro of prediction is {}'.format(f1_score(y_inbal, y_pred, average='macro')))\n",
    "print('f1_score_micro of prediction is {}'.format(f1_score(y_inbal, y_pred, average='micro')))\n",
    "print('f1_score_weighted of prediction is {}'.format(f1_score(y_inbal, y_pred, average='weighted')))"
   ]
  },
  {
   "cell_type": "markdown",
   "metadata": {},
   "source": [
    "A test on new RFC: let us check the model on only benign and malicious data.\n",
    "First, malicious."
   ]
  },
  {
   "cell_type": "code",
   "execution_count": 30,
   "metadata": {},
   "outputs": [
    {
     "data": {
      "text/plain": [
       "array([-1., -1., -1., ..., -1., -1., -1.])"
      ]
     },
     "execution_count": 30,
     "metadata": {},
     "output_type": "execute_result"
    }
   ],
   "source": [
    "path = \".\\\\data\\\\thermostat\\\\udp_bashlite.csv\"\n",
    "udp = pd.read_csv(path)\n",
    "udp = shuffle(udp)\n",
    "udp = drop_columns_rf(udp)\n",
    "y_anom = np.empty(udp.shape[0])\n",
    "y_anom.fill(-1)\n",
    "y_anom"
   ]
  },
  {
   "cell_type": "code",
   "execution_count": 31,
   "metadata": {},
   "outputs": [
    {
     "name": "stdout",
     "output_type": "stream",
     "text": [
      "Accuracy of prediction is 0.9996278306343102\n",
      "f1_micro of prediction is 0.9996278306343102\n",
      "f1_macro of prediction is 0.49990694034160055\n"
     ]
    }
   ],
   "source": [
    "y_pred = clf_rfc.predict(udp)\n",
    "print('Accuracy of prediction is {}'.format(accuracy_score(y_anom, y_pred)))\n",
    "print('f1_micro of prediction is {}'.format(f1_score(y_anom, y_pred, average='micro')))\n",
    "print('f1_macro of prediction is {}'.format(f1_score(y_anom, y_pred, average='macro')))"
   ]
  },
  {
   "cell_type": "markdown",
   "metadata": {},
   "source": [
    "Now, on benign."
   ]
  },
  {
   "cell_type": "code",
   "execution_count": 32,
   "metadata": {},
   "outputs": [
    {
     "data": {
      "text/plain": [
       "array([1., 1., 1., ..., 1., 1., 1.])"
      ]
     },
     "execution_count": 32,
     "metadata": {},
     "output_type": "execute_result"
    }
   ],
   "source": [
    "path = \".\\\\data\\\\thermostat\\\\benign_traffic.csv\"\n",
    "ben = pd.read_csv(path)\n",
    "ben = shuffle(ben)\n",
    "ben = drop_columns_rf(ben)\n",
    "y_ben = np.empty(ben.shape[0])\n",
    "y_ben.fill(1)\n",
    "y_ben"
   ]
  },
  {
   "cell_type": "code",
   "execution_count": 33,
   "metadata": {},
   "outputs": [
    {
     "name": "stdout",
     "output_type": "stream",
     "text": [
      "Accuracy of prediction is 0.21363740370681109\n",
      "f1_micro of prediction is 0.21363740370681109\n",
      "f1_macro of prediction is 0.1760306686777275\n"
     ]
    }
   ],
   "source": [
    "y_pred = clf_rfc.predict(ben)\n",
    "print('Accuracy of prediction is {}'.format(accuracy_score(y_ben, y_pred)))\n",
    "print('f1_micro of prediction is {}'.format(f1_score(y_ben, y_pred, average='micro')))\n",
    "print('f1_macro of prediction is {}'.format(f1_score(y_ben, y_pred, average='macro')))"
   ]
  },
  {
   "cell_type": "markdown",
   "metadata": {},
   "source": [
    "Now we can understand that our model makes mistakes on benign traffic. It puts -1 when it is 1 frequently."
   ]
  },
  {
   "cell_type": "markdown",
   "metadata": {},
   "source": [
    "Lets train IF on inbalanced data."
   ]
  },
  {
   "cell_type": "code",
   "execution_count": 34,
   "metadata": {},
   "outputs": [
    {
     "name": "stdout",
     "output_type": "stream",
     "text": [
      "size of benign : 40395\n",
      "full size of BASHLITE : 316650\n",
      "squished size of BASHLITE : 4036\n",
      "full dataframe size : 44431\n"
     ]
    }
   ],
   "source": [
    "inbal_data = read_device_data('.\\\\data\\\\doorbell\\\\',  BASHLITE_only=True, equalize_classes=2, botnet_size=0.1)"
   ]
  },
  {
   "cell_type": "code",
   "execution_count": 35,
   "metadata": {},
   "outputs": [
    {
     "data": {
      "text/plain": [
       "(44431, 115)"
      ]
     },
     "execution_count": 35,
     "metadata": {},
     "output_type": "execute_result"
    }
   ],
   "source": [
    "inbal_y = inbal_data['Botnet']\n",
    "inbal_data = inbal_data.drop(['Botnet'], axis=1)\n",
    "inbal_data.shape"
   ]
  },
  {
   "cell_type": "code",
   "execution_count": 36,
   "metadata": {},
   "outputs": [
    {
     "name": "stdout",
     "output_type": "stream",
     "text": [
      "(44431, 115)\n",
      "['MI_dir_L0.1_mean', 'MI_dir_L0.01_mean', 'H_L0.1_mean', 'H_L0.01_mean', 'HH_L0.1_magnitude', 'HH_L0.01_magnitude', 'HH_jit_L5_mean', 'HH_jit_L3_mean', 'HH_jit_L1_mean', 'HH_jit_L0.1_mean', 'HH_jit_L0.01_mean']\n",
      "-----------------------------------------------------------\n",
      "0.9874637016679346\n",
      "0.9632890733637888\n",
      "0.9875762509053769\n"
     ]
    }
   ],
   "source": [
    "from sklearn.model_selection import StratifiedKFold\n",
    "\n",
    "clf = IsolationForest()\n",
    "selector = SelectKBest(f_classif, 11)\n",
    "selector.fit(inbal_data, inbal_y)\n",
    "# SelectKBest just selects the specified number of features with the highest scores \n",
    "print(inbal_data.shape)\n",
    "data_reduced = selector.transform(inbal_data)\n",
    "\n",
    "feature_names = list(inbal_data.columns.values)\n",
    "mask = selector.get_support() #list of booleans\n",
    "new_features = [] # The list of your K best features\n",
    "\n",
    "for bool, feature in zip(mask, feature_names):\n",
    "    if bool:\n",
    "        new_features.append(feature)\n",
    "        \n",
    "print(new_features)\n",
    "print(\"-----------------------------------------------------------\")\n",
    "cv = StratifiedKFold(n_splits=5, random_state=0)\n",
    "print(np.mean(cross_val_score(clf, data_reduced, inbal_y, cv=cv, scoring='accuracy')))\n",
    "print(np.mean(cross_val_score(clf, data_reduced, inbal_y, cv=cv, scoring='f1_macro')))\n",
    "print(np.mean(cross_val_score(clf, data_reduced, inbal_y, cv=cv, scoring='f1_micro')))"
   ]
  },
  {
   "cell_type": "markdown",
   "metadata": {},
   "source": [
    "We got better results."
   ]
  },
  {
   "cell_type": "markdown",
   "metadata": {},
   "source": [
    "We got 11 best features: 'MI_dir_L0.1_mean', 'MI_dir_L0.01_mean', 'H_L0.1_mean', 'H_L0.01_mean', 'HH_L0.1_magnitude', 'HH_L0.01_magnitude', 'HH_jit_L5_mean', 'HH_jit_L3_mean', 'HH_jit_L1_mean', 'HH_jit_L0.1_mean', 'HH_jit_L0.01_mean'"
   ]
  },
  {
   "cell_type": "markdown",
   "metadata": {},
   "source": [
    "Changing drop function:"
   ]
  },
  {
   "cell_type": "code",
   "execution_count": 37,
   "metadata": {},
   "outputs": [],
   "source": [
    "def drop_columns_inb(data):\n",
    "    return pd.concat(([data['MI_dir_L0.1_mean'], \n",
    "                    data['HH_L0.01_magnitude'], \n",
    "                    data['MI_dir_L0.01_mean'],\n",
    "                    data['HH_L0.1_magnitude'], \n",
    "                    data['H_L0.1_mean'], \n",
    "                    data['H_L0.01_mean'], \n",
    "                    data['HH_jit_L3_mean'], \n",
    "                    data['HH_jit_L1_mean'], \n",
    "                    data['HH_jit_L0.1_mean'], \n",
    "                    data['HH_jit_L0.01_mean']]), axis=1)"
   ]
  },
  {
   "cell_type": "code",
   "execution_count": 38,
   "metadata": {},
   "outputs": [
    {
     "data": {
      "text/plain": [
       "(44431, 10)"
      ]
     },
     "execution_count": 38,
     "metadata": {},
     "output_type": "execute_result"
    }
   ],
   "source": [
    "inbal_data = drop_columns_inb(inbal_data)\n",
    "inbal_data.shape"
   ]
  },
  {
   "cell_type": "code",
   "execution_count": 39,
   "metadata": {},
   "outputs": [],
   "source": [
    "X_train, X_test, y_train, y_test = train_test_split(inbal_data, inbal_y, test_size=0.25, random_state=0)"
   ]
  },
  {
   "cell_type": "code",
   "execution_count": 40,
   "metadata": {
    "scrolled": true
   },
   "outputs": [
    {
     "name": "stdout",
     "output_type": "stream",
     "text": [
      "Fitting 5 folds for each of 45 candidates, totalling 225 fits\n"
     ]
    },
    {
     "name": "stderr",
     "output_type": "stream",
     "text": [
      "[Parallel(n_jobs=-1)]: Done  42 tasks      | elapsed:  1.4min\n",
      "[Parallel(n_jobs=-1)]: Done 192 tasks      | elapsed:  8.8min\n",
      "[Parallel(n_jobs=-1)]: Done 225 out of 225 | elapsed: 10.9min finished\n"
     ]
    },
    {
     "name": "stdout",
     "output_type": "stream",
     "text": [
      "f1_macro (isolation forest auto): 0.9731873001607156 with params {'contamination': 0.1, 'max_samples': 100, 'n_estimators': 200, 'random_state': 0}\n"
     ]
    }
   ],
   "source": [
    "clf = IsolationForest()\n",
    "clf_params = [{ \n",
    "    \"n_estimators\": [50, 100, 200],\n",
    "    \"max_samples\": [50, 100, 200, 256, 300],\n",
    "    \"contamination\": [0.1, 0.2, 0.3], \n",
    "    \"random_state\": [0]\n",
    "    \n",
    "}]\n",
    "\n",
    "\n",
    "clf_grid = GridSearchCV(clf, clf_params, cv=cv, scoring='f1_macro', refit=True, verbose=1, n_jobs=-1)\n",
    "clf_grid.fit(X_train, y_train)\n",
    "clf_best = clf_grid.best_estimator_\n",
    "print(\"f1_macro (isolation forest auto): {} with params {}\"\n",
    "      .format(clf_grid.best_score_, clf_grid.best_params_))"
   ]
  },
  {
   "cell_type": "markdown",
   "metadata": {},
   "source": [
    "[backup]f1_macro (isolation forest auto): 0.9733802867987968 with params {'contamination': 0.1, 'max_samples': 200, 'n_estimators': 100, 'random_state': 0}"
   ]
  },
  {
   "cell_type": "code",
   "execution_count": 41,
   "metadata": {},
   "outputs": [
    {
     "name": "stdout",
     "output_type": "stream",
     "text": [
      "IF score: 0.98893 ± 0.00113\n",
      "IF score: 0.96894 ± 0.00398\n",
      "IF score: 0.98878 ± 0.00135\n"
     ]
    }
   ],
   "source": [
    "clf_ifc_imba = IsolationForest(n_estimators=100, contamination=0.1, max_samples=200, random_state=0)\n",
    "scores = cross_val_score(clf, X_train, y_train, scoring='accuracy', cv=cv)\n",
    "print('IF score: {0:.5f} ± {1:.5f}'.format(scores.mean(), scores.std()) )\n",
    "scores = cross_val_score(clf, X_train, y_train, scoring='f1_macro', cv=cv)\n",
    "print('IF score: {0:.5f} ± {1:.5f}'.format(scores.mean(), scores.std()) )\n",
    "scores = cross_val_score(clf, X_train, y_train, scoring='f1_micro', cv=cv)\n",
    "print('IF score: {0:.5f} ± {1:.5f}'.format(scores.mean(), scores.std()) )"
   ]
  },
  {
   "cell_type": "code",
   "execution_count": 42,
   "metadata": {},
   "outputs": [
    {
     "name": "stdout",
     "output_type": "stream",
     "text": [
      "Accuracy of prediction is 0.9892870003601009\n",
      "f1_micro of prediction is 0.9892870003601009\n",
      "f1_macro of prediction is 0.9693984848794573\n"
     ]
    }
   ],
   "source": [
    "clf_ifc_imba.fit(X_train, y_train)\n",
    "y_pred = clf_ifc_imba.predict(X_test)\n",
    "print('Accuracy of prediction is {}'.format(accuracy_score(y_test, y_pred)))\n",
    "print('f1_micro of prediction is {}'.format(f1_score(y_test, y_pred, average='micro')))\n",
    "print('f1_macro of prediction is {}'.format(f1_score(y_test, y_pred, average='macro')))"
   ]
  },
  {
   "cell_type": "markdown",
   "metadata": {},
   "source": [
    "Lets try them on a large dataset of previously not seen device\n"
   ]
  },
  {
   "cell_type": "code",
   "execution_count": 43,
   "metadata": {},
   "outputs": [
    {
     "name": "stdout",
     "output_type": "stream",
     "text": [
      "size of benign : 98514\n",
      "full size of BASHLITE : 309040\n",
      "squished size of BASHLITE : 98513\n",
      "full dataframe size : 197027\n"
     ]
    }
   ],
   "source": [
    "bal_data = read_device_data('.\\\\data\\\\Provision_PT_838_Security_Camera\\\\',\n",
    "                            BASHLITE_only=True, equalize_classes=1)"
   ]
  },
  {
   "cell_type": "code",
   "execution_count": 44,
   "metadata": {},
   "outputs": [],
   "source": [
    "y_bal = bal_data['Botnet']\n",
    "X_bal = drop_columns_rf(bal_data)"
   ]
  },
  {
   "cell_type": "code",
   "execution_count": 45,
   "metadata": {},
   "outputs": [
    {
     "name": "stdout",
     "output_type": "stream",
     "text": [
      "Accuracy of prediction is 0.8282976444852735\n",
      "f1_micro of prediction is 0.8282976444852735\n",
      "f1_macro of prediction is 0.823093543804172\n"
     ]
    }
   ],
   "source": [
    "y_pred = clf_rfc.predict(X_bal)\n",
    "print('Accuracy of prediction is {}'.format(accuracy_score(y_bal, y_pred)))\n",
    "print('f1_micro of prediction is {}'.format(f1_score(y_bal, y_pred, average='micro')))\n",
    "print('f1_macro of prediction is {}'.format(f1_score(y_bal, y_pred, average='macro')))"
   ]
  },
  {
   "cell_type": "code",
   "execution_count": 46,
   "metadata": {},
   "outputs": [
    {
     "name": "stdout",
     "output_type": "stream",
     "text": [
      "size of benign : 98514\n",
      "full size of BASHLITE : 309040\n",
      "squished size of BASHLITE : 9849\n",
      "full dataframe size : 108363\n"
     ]
    }
   ],
   "source": [
    "inbal_data = read_device_data('.\\\\data\\\\Provision_PT_838_Security_Camera\\\\',  BASHLITE_only=True, equalize_classes=2, botnet_size=0.1)"
   ]
  },
  {
   "cell_type": "code",
   "execution_count": 47,
   "metadata": {},
   "outputs": [],
   "source": [
    "y_inbal = inbal_data['Botnet']\n",
    "X_inbal = drop_columns_inb(inbal_data)"
   ]
  },
  {
   "cell_type": "code",
   "execution_count": 48,
   "metadata": {},
   "outputs": [
    {
     "name": "stdout",
     "output_type": "stream",
     "text": [
      "Accuracy of prediction is 0.3615809824386553\n",
      "f1_micro of prediction is 0.3615809824386553\n",
      "f1_macro of prediction is 0.34025189099404174\n"
     ]
    }
   ],
   "source": [
    "y_pred = clf_ifc_imba.predict(X_inbal)\n",
    "print('Accuracy of prediction is {}'.format(accuracy_score(y_inbal, y_pred)))\n",
    "print('f1_micro of prediction is {}'.format(f1_score(y_inbal, y_pred, average='micro')))\n",
    "print('f1_macro of prediction is {}'.format(f1_score(y_inbal, y_pred, average='macro')))"
   ]
  },
  {
   "cell_type": "code",
   "execution_count": 49,
   "metadata": {},
   "outputs": [
    {
     "name": "stdout",
     "output_type": "stream",
     "text": [
      "[[   -1 79030]\n",
      " [    1 29333]]\n"
     ]
    }
   ],
   "source": [
    "un, counts = np.unique(y_pred, return_counts=True)\n",
    "print(np.asarray((un, counts)).T)"
   ]
  },
  {
   "cell_type": "markdown",
   "metadata": {},
   "source": [
    "It seems like isolation forest is either overfitting, or in general doesn't work well with new data. It marked most of the data as an anomaly."
   ]
  },
  {
   "cell_type": "markdown",
   "metadata": {},
   "source": [
    "## Conclusion\n",
    "\n",
    "We tested a model that can potentially detect the malicious traffic coming out of an IoT device, which can help with the epidemic of IoT botnets.\n",
    "\n",
    "We tried two estimators, random forest and isolation forest. As it turns out, they both have their pros and cons: when the sample has a malicious-to-benign data ratio close to 1:1, random forest works best while the isolation forest is rather (very) bad; but when there isn't that many malicious packet streams, isolation forest due to its anomaly searching capabilities overtakes random forest in performance. **However**: it is seems like isolation forest either has a huge problem with overfitting which we weren't able to solve in time, or in general does not work good with new data, as it marked most of the new data as anomality. With that in mind, it can be said that random forest is better when IoT device is actively used in an attack, and isolation forest is better when the device is trying to quietly infect other network nodes, but only if it was fitted for the device (which is very inconvenient and not practical)."
   ]
  }
 ],
 "metadata": {
  "kernelspec": {
   "display_name": "Python 3",
   "language": "python",
   "name": "python3"
  },
  "language_info": {
   "codemirror_mode": {
    "name": "ipython",
    "version": 3
   },
   "file_extension": ".py",
   "mimetype": "text/x-python",
   "name": "python",
   "nbconvert_exporter": "python",
   "pygments_lexer": "ipython3",
   "version": "3.6.4"
  }
 },
 "nbformat": 4,
 "nbformat_minor": 2
}
